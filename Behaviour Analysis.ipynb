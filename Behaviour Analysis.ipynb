{
 "cells": [
  {
   "cell_type": "markdown",
   "metadata": {},
   "source": [
    "## Functions and imports"
   ]
  },
  {
   "cell_type": "code",
   "execution_count": null,
   "metadata": {},
   "outputs": [],
   "source": [
    "# Import libraries and set desired options\n",
    "import pickle\n",
    "import numpy as np\n",
    "import pandas as pd\n",
    "import re\n",
    "import os\n",
    "from scipy.sparse import csr_matrix, hstack\n",
    "from sklearn.metrics import roc_auc_score\n",
    "from matplotlib import pyplot as plt\n",
    "import seaborn as sns\n",
    "import warnings\n",
    "from collections import Counter\n",
    "from sklearn.model_selection import TimeSeriesSplit, cross_val_score, GridSearchCV\n",
    "from sklearn.preprocessing import StandardScaler\n",
    "from imblearn.pipeline import Pipeline as imbPipeline\n",
    "from sklearn.linear_model import LogisticRegression, LogisticRegressionCV, SGDClassifier\n",
    "from sklearn.ensemble import RandomForestClassifier\n",
    "from sklearn.model_selection import validation_curve, learning_curve\n",
    "from mlxtend.feature_selection import SequentialFeatureSelector as SFS\n",
    "from sklearn.feature_extraction.text import TfidfVectorizer\n",
    "from sklearn.feature_extraction.text import CountVectorizer\n",
    "from sklearn.preprocessing import PolynomialFeatures\n",
    "from sklearn.preprocessing import Normalizer\n",
    "from math import pi\n",
    "from sklearn.pipeline import Pipeline\n",
    "from xgboost.sklearn import XGBClassifier\n",
    "warnings.filterwarnings('ignore')\n",
    "pd.set_option('display.max_columns', 500)\n",
    "sns.set()"
   ]
  },
  {
   "cell_type": "code",
   "execution_count": 20,
   "metadata": {
    "code_folding": [
     0,
     19,
     30,
     41
    ]
   },
   "outputs": [],
   "source": [
    "def get_sites_dict_(data):\n",
    "    '''\n",
    "    Gets dataframe with site names (10 columns) as input.\n",
    "    Returns a dictionary of sites ordered by frequency.\n",
    "    '''\n",
    "    m, n = data.shape #num of rows and columns\n",
    "    data = pd.DataFrame(data.values.reshape(m*n, 1), columns=['site']) #transform to 1 column\n",
    "    freq = data.site.value_counts().reset_index()\n",
    "    key_value_df = pd.DataFrame() #contains a pair of site-frequency\n",
    "    key_value_df['site'] = freq['index']\n",
    "    key_value_df['count'] = freq['site']\n",
    "    key_value_df.sort_values(by='count', inplace=True, ascending=False) \n",
    "    sites_dict = {} \n",
    "    sites_dict['Unknown'] = 0\n",
    "    for i in np.arange(key_value_df.shape[0]):\n",
    "        if key_value_df.iloc[i,0]!='Unknown':\n",
    "            sites_dict[key_value_df.iloc[i,0]] = i+1\n",
    "    return sites_dict\n",
    "\n",
    "def inverse_dict(sites_dict):\n",
    "    '''\n",
    "    Gets a key-value dictionary. \n",
    "    Returns the dictionary by swapping the key and value.\n",
    "    '''\n",
    "    code_sites_dict = {}\n",
    "    sites = list(sites_dict.items())\n",
    "    for site in sites:\n",
    "        code_sites_dict[site[1]] = site[0]\n",
    "    return code_sites_dict\n",
    "\n",
    "def make_sparse_data(data):\n",
    "    '''\n",
    "    Makes sparse matrix\n",
    "    '''\n",
    "    n = data.shape[1]\n",
    "    X = data.values\n",
    "    flatten_X = X.flatten()\n",
    "    new_X = ([1]*flatten_X.shape[0], flatten_X, range(0, flatten_X.shape[0]+10, 10))\n",
    "    X_sparse = csr_matrix(new_X)[:, 1:]\n",
    "    return X_sparse\n",
    "\n",
    "def write_to_submission_file(predicted_labels, out_file,\n",
    "                             target='target', index_label=\"session_id\"):\n",
    "    predicted_df=pd.DataFrame(predicted_labels,index=np.arange(1,predicted_labels.shape[0]+1),columns=[target])\n",
    "    predicted_df.to_csv(out_file, index_label=index_label)"
   ]
  },
  {
   "cell_type": "code",
   "execution_count": 21,
   "metadata": {
    "code_folding": [
     0,
     9,
     16,
     25,
     50
    ]
   },
   "outputs": [],
   "source": [
    "def convert_time_to_feat(data):\n",
    "    #1 - morning, 2 - day, 3 - evening\n",
    "    if data.hour <= 11:\n",
    "        return 1\n",
    "    if data.hour > 11 and data.hour <= 17:\n",
    "        return 2\n",
    "    if data.hour >= 18 and data.hour <= 23:\n",
    "        return 3\n",
    "    \n",
    "def compare_start_end(data):\n",
    "    #Do the session have overlaps or not?\n",
    "    if data['time_of_day_start'] == data['time_of_day_end']:\n",
    "        return 1\n",
    "    else: \n",
    "        return 0\n",
    "    \n",
    "def count_top_sites(session,top):\n",
    "    #How many sites are in top-n sites given?\n",
    "    session = session.values.flatten()\n",
    "    if type(top) == set:\n",
    "        top = list(top)\n",
    "    else:\n",
    "        top = [i[0] for i in top]    \n",
    "    return len(np.where(np.isin(session,top) == True)[0])\n",
    "\n",
    "def kmeansshow(k,X):\n",
    "\n",
    "    from sklearn import cluster\n",
    "    from matplotlib import pyplot\n",
    "\n",
    "    kmeans = cluster.KMeans(n_clusters=k)\n",
    "    kmeans.fit(X)\n",
    "    labels = kmeans.labels_\n",
    "    centroids = kmeans.cluster_centers_\n",
    "    #print centroids\n",
    "\n",
    "    for i in range(k):\n",
    "        # select only data observations with cluster label == i\n",
    "        ds = X[np.where(labels==i)]\n",
    "        # plot the data observations\n",
    "        pyplot.plot(ds[:,0],ds[:,1],'o')\n",
    "        # plot the centroids\n",
    "        lines = pyplot.plot(centroids[i,0],centroids[i,1],'kx')\n",
    "        # make the centroid x's bigger\n",
    "        pyplot.setp(lines,ms=15.0)\n",
    "        pyplot.setp(lines,mew=2.0)\n",
    "    pyplot.legend()\n",
    "    pyplot.show()\n",
    "    return centroids\n",
    "\n",
    "def get_auc_lr_valid(X, y, C=1.0, seed=17, ratio = 0.9):\n",
    "    # Split the data into the training and validation sets\n",
    "    idx = int(round(X.shape[0] * ratio))\n",
    "    # Classifier training\n",
    "    lr = LogisticRegression(C=C, random_state=seed, solver='liblinear').fit(X[:idx, :], y[:idx])\n",
    "    # Prediction for validation set\n",
    "    y_pred = lr.predict_proba(X[idx:, :])[:, 1]\n",
    "    # Calculate the quality\n",
    "    score = roc_auc_score(y[idx:], y_pred)\n",
    "    \n",
    "    return score"
   ]
  },
  {
   "cell_type": "markdown",
   "metadata": {
    "_uuid": "41b92273a44371870b2c81d5af8e8b5bbf5947ea",
    "heading_collapsed": true
   },
   "source": [
    "## Here starts the game\n"
   ]
  },
  {
   "cell_type": "markdown",
   "metadata": {
    "heading_collapsed": true,
    "hidden": true
   },
   "source": [
    "### Open data, make basic transformations and preparations"
   ]
  },
  {
   "cell_type": "code",
   "execution_count": 2,
   "metadata": {
    "hidden": true
   },
   "outputs": [],
   "source": [
    "with open('data/new_site_dict.pkl', 'rb') as input_file:\n",
    "    site_dict = pickle.load(input_file)\n",
    "    \n",
    "train_df = pd.read_csv('data/train_df.csv',\n",
    "                       index_col='session_id')\n",
    "test_df = pd.read_csv('data/test_df.csv',\n",
    "                      index_col='session_id')\n",
    "\n",
    "sites = ['site%i' % i for i in range(1,11,1)]\n",
    "times = ['time%s' % i for i in range(1, 11)]\n",
    "train_df[times] = train_df[times].apply(pd.to_datetime)\n",
    "test_df[times] = test_df[times].apply(pd.to_datetime)\n",
    "train_df = train_df.sort_values(by='time1')\n",
    "\n",
    "# train_df = train_df.fillna(0)\n",
    "# test_df = test_df.fillna(0)\n",
    "train_df[sites] = train_df[sites].fillna(0).astype(int)\n",
    "test_df[sites] = test_df[sites].fillna(0).astype(int)\n",
    "\n",
    "# Create a separate dataframe where we will work with timestamps\n",
    "time_df = pd.DataFrame(index=train_df.index)\n",
    "time_df['target'] = train_df['target']\n",
    "\n",
    "# Find sessions' starting and ending\n",
    "time_df['min'] = train_df[times].min(axis=1)\n",
    "time_df['max'] = train_df[times].max(axis=1)\n",
    "\n",
    "# Calculate sessions' duration in seconds\n",
    "time_df['seconds'] = (time_df['max'] - time_df['min']) / np.timedelta64(1, 's')\n",
    "\n",
    "time_df.head()\n",
    "\n",
    "# Our target variable\n",
    "\n",
    "y_train = train_df['target']\n",
    "\n",
    "# United dataframe of the initial data \n",
    "full_df = pd.concat([train_df.drop('target', axis=1), test_df])\n",
    "\n",
    "# Index to split the training and test data sets\n",
    "idx_split = train_df.shape[0]\n",
    "\n",
    "# Dataframe with indices of visited websites in session\n",
    "full_sites = full_df[sites]\n",
    "full_times = full_df[times]"
   ]
  },
  {
   "cell_type": "markdown",
   "metadata": {
    "heading_collapsed": true,
    "hidden": true
   },
   "source": [
    "### Creating features"
   ]
  },
  {
   "cell_type": "code",
   "execution_count": 58,
   "metadata": {
    "hidden": true
   },
   "outputs": [
    {
     "data": {
      "image/png": "[encoded data removed]",
      "text/plain": [
       "<Figure size 432x288 with 1 Axes>"
      ]
     },
     "metadata": {
      "needs_background": "light"
     },
     "output_type": "display_data"
    }
   ],
   "source": [
    "full_feats = pd.DataFrame()\n",
    "\n",
    "#Extracting first site's domains from dictionary\n",
    "# hosts = pd.read_pickle('data/site_dic.pkl')\n",
    "# hosts = pd.DataFrame(data=list(hosts.keys()), index=list(hosts.values()), columns=['name']) # switch key and value\n",
    "\n",
    "# hosts['split'] = hosts['name'].str.split('.')\n",
    "# hosts['len'] = hosts['split'].map(lambda x: len(x)).astype(np.int8)\n",
    "# hosts['domain'] = hosts['split'].map(lambda x: x[-1])\n",
    "\n",
    "# hosts.drop(['name','split'], inplace=True, axis=1)\n",
    "# hosts.index.rename('site1', inplace=True) # rename index for the future merge\n",
    "# train_feats['domain'] = pd.merge(train_df, hosts, how='left', on='site1')['domain']\n",
    "\n",
    "# ------------------ #\n",
    "\n",
    "\n",
    "def add_time_features(df, X_sparse):\n",
    "    hour = df['time1'].apply(lambda ts: ts.hour)\n",
    "    morning = ((hour >= 7) & (hour <= 11)).astype('int')\n",
    "    day = ((hour >= 12) & (hour <= 18)).astype('int')\n",
    "    evening = ((hour >= 19) & (hour <= 23)).astype('int')\n",
    "    night = ((hour >= 0) & (hour <= 6)).astype('int')\n",
    "    X = hstack([X_sparse, morning.values.reshape(-1, 1), \n",
    "                day.values.reshape(-1, 1), evening.values.reshape(-1, 1), \n",
    "                night.values.reshape(-1, 1)])\n",
    "    return X\n",
    "\n",
    "\n",
    "\n",
    "#Other time features\n",
    "full_feats['start_month'] = full_df['time1'].apply(lambda x: x.month)\n",
    "full_feats['end_month'] = time_df['max'].apply(lambda x: x.month)\n",
    "\n",
    "full_feats['start_hour'] = full_df['time1'].apply(lambda x: x.hour)\n",
    "full_feats['end_hour'] = time_df['max'].apply(lambda x: x.hour)\n",
    "full_feats['hour_overlap'] = np.where(full_feats['start_hour'] == full_feats['end_hour'],0,1)\n",
    "\n",
    "full_feats['time_of_day_start'] = full_df['time1'].apply(convert_time_to_feat)\n",
    "full_feats['time_of_day_end'] = time_df['max'].apply(convert_time_to_feat)\n",
    "full_feats['time_of_day_overlap'] = np.where(full_feats['time_of_day_start'] == full_feats['time_of_day_end'],0,1)\n",
    "\n",
    "full_feats['start_day'] = full_df['time1'].apply(lambda x: x.day)\n",
    "full_feats['end_day'] = time_df['max'].apply(lambda x: x.day)\n",
    "full_feats['day_overlap'] = np.where(full_feats['start_day'] == full_feats['end_day'],0,1)\n",
    "\n",
    "full_feats['start_day_of_week'] = full_df['time1'].apply(lambda x: x.weekday())\n",
    "full_feats['end_day_of_week'] = time_df['max'].apply(lambda x: x.weekday())\n",
    "\n",
    "full_feats['holiday'] = full_df['time1'].apply(lambda x: 1 if x.weekday() > 4 else 0)\n",
    "\n",
    "full_feats['short_session'] = time_df['seconds'].apply(lambda x: 1 if x <= 25 else 0)\n",
    "\n",
    "full_feats['morning'] = time_df['min'].apply(lambda x: 1 if x.hour >= 7 and x.hour <=11 else 0)\n",
    "full_feats['day'] = time_df['min'].apply(lambda x: 1 if x.hour >= 12 and x.hour <= 18 else 0)\n",
    "full_feats['evening'] = time_df['min'].apply(lambda x: 1 if x.hour >= 19 and x.hour <=23 else 0)\n",
    "full_feats['night'] = time_df['min'].apply(lambda x: 1 if x.hour >= 0 and x.hour <=6 else 0)\n",
    "\n",
    "# ------------------ #\n",
    "\n",
    "\n",
    "#Cyclic time dependancy extraction\n",
    "\n",
    "full_feats['hour_sin_x'] = full_feats.start_hour.apply(lambda ts: np.sin(2 * pi * ts/24.))\n",
    "full_feats['hour_cos_x'] = full_feats.start_hour.apply(lambda ts: np.cos(2 * pi * ts/24.))\n",
    "\n",
    "times = kmeansshow(3,full_feats[['hour_sin_x', 'hour_cos_x']].values)\n",
    "\n",
    "full_feats['night_morning'] =np.linalg.norm(full_feats[['hour_sin_x', 'hour_cos_x']].values - times[0,:],axis=1)\n",
    "full_feats['morning_day'] =np.linalg.norm(full_feats[['hour_sin_x', 'hour_cos_x']].values - times[1,:],axis=1)\n",
    "full_feats['day_evening'] =np.linalg.norm(full_feats[['hour_sin_x', 'hour_cos_x']].values - times[2,:],axis=1)\n",
    "\n",
    "# ------------------ #\n",
    "\n",
    "#Sites features\n",
    "\n",
    "\n",
    "# train_feats['domain'] = pd.merge(train_df, hosts, how='left', on='site1')['domain']\n",
    "full_feats['max-min'] = full_df[sites].max(axis=1) - full_df[sites].min(axis=1)\n",
    "full_feats['mean'] = full_df[sites].mean(axis=1)\n",
    "full_feats['std'] = full_df[sites].std(axis=1)\n",
    "full_feats['var'] = full_df[sites].var(axis=1)\n",
    "full_feats['skew'] = full_df[sites].skew(axis=1)\n",
    "full_feats['median'] = full_df[sites].median(axis=1)\n",
    "\n",
    "\n",
    "\n",
    "# train_feats['target'] = train_df['target']\n"
   ]
  },
  {
   "cell_type": "code",
   "execution_count": 172,
   "metadata": {
    "hidden": true
   },
   "outputs": [],
   "source": [
    "full_feats.to_csv('data/full_feats.csv')"
   ]
  },
  {
   "cell_type": "markdown",
   "metadata": {
    "heading_collapsed": true
   },
   "source": [
    "## Looking for best site vectorizer"
   ]
  },
  {
   "cell_type": "code",
   "execution_count": 61,
   "metadata": {
    "hidden": true
   },
   "outputs": [],
   "source": [
    "def sites_to_text(row):\n",
    "    return ' '.join([str(x) for x in row])\n",
    "\n",
    "full_feats['sites_text'] = full_sites.apply(lambda row: sites_to_text(row),axis=1)"
   ]
  },
  {
   "cell_type": "code",
   "execution_count": 118,
   "metadata": {
    "hidden": true
   },
   "outputs": [
    {
     "name": "stdout",
     "output_type": "stream",
     "text": [
      "Wall time: 17min 33s\n"
     ]
    }
   ],
   "source": [
    "%%time\n",
    "from sklearn.pipeline import Pipeline\n",
    "time_split = TimeSeriesSplit(n_splits = 10)\n",
    "X_sites = full_feats.iloc[:idx_split]['sites_text']\n",
    "pipe_count_log = Pipeline([\n",
    "    ('vectorizer',CountVectorizer()),\n",
    "    ('regressor',LogisticRegression(random_state = 42))\n",
    "])\n",
    "pars = {\n",
    "    'vectorizer__ngram_range': [(1,1),(1,2),(1,3),(1,4)],\n",
    "#     'vectorizer__analyzer': ['char_wb','word']\n",
    "}\n",
    "grid = GridSearchCV(pipe_count_log,pars,cv=time_split,scoring='roc_auc')\n",
    "grid.fit(X_sites,y_train)"
   ]
  },
  {
   "cell_type": "code",
   "execution_count": 119,
   "metadata": {
    "hidden": true
   },
   "outputs": [
    {
     "data": {
      "text/plain": [
       "(0.8684632477303084, {'vectorizer__ngram_range': (1, 2)})"
      ]
     },
     "execution_count": 119,
     "metadata": {},
     "output_type": "execute_result"
    }
   ],
   "source": [
    "grid.best_score_,grid.best_params_"
   ]
  },
  {
   "cell_type": "code",
   "execution_count": 120,
   "metadata": {
    "hidden": true
   },
   "outputs": [
    {
     "name": "stdout",
     "output_type": "stream",
     "text": [
      "Wall time: 11min 19s\n"
     ]
    }
   ],
   "source": [
    "%%time\n",
    "pipe_idf_log = Pipeline([\n",
    "    ('vectorizer',TfidfVectorizer()),\n",
    "    ('regressor',LogisticRegression(random_state = 42))\n",
    "])\n",
    "grid_2 = GridSearchCV(pipe_idf_log,pars,cv=time_split,scoring='roc_auc')\n",
    "grid_2.fit(X_sites,y_train)"
   ]
  },
  {
   "cell_type": "code",
   "execution_count": 121,
   "metadata": {
    "hidden": true
   },
   "outputs": [
    {
     "data": {
      "text/plain": [
       "(0.8635576756856093, {'vectorizer__ngram_range': (1, 2)})"
      ]
     },
     "execution_count": 121,
     "metadata": {},
     "output_type": "execute_result"
    }
   ],
   "source": [
    "grid_2.best_score_,grid_2.best_params_"
   ]
  },
  {
   "cell_type": "code",
   "execution_count": 11,
   "metadata": {
    "hidden": true
   },
   "outputs": [],
   "source": [
    "vectorizer = CountVectorizer(ngram_range = (1,2))\n",
    "train_sites_sparse = vectorizer.fit_transform(full_feats.iloc[:idx_split]['sites_text'])\n",
    "test_sites_sparse = vectorizer.transform(full_feats.iloc[idx_split:]['sites_text'])"
   ]
  },
  {
   "cell_type": "markdown",
   "metadata": {},
   "source": [
    "## Choosing the best subset of features"
   ]
  },
  {
   "cell_type": "code",
   "execution_count": null,
   "metadata": {},
   "outputs": [],
   "source": [
    "cv_split = TimeSeriesSplit(n_splits = 10)"
   ]
  },
  {
   "cell_type": "code",
   "execution_count": 124,
   "metadata": {},
   "outputs": [
    {
     "data": {
      "text/plain": [
       "<matplotlib.axes._subplots.AxesSubplot at 0x2ce54b00>"
      ]
     },
     "execution_count": 124,
     "metadata": {},
     "output_type": "execute_result"
    },
    {
     "data": {
      "image/png": "[encoded data removed]",
      "text/plain": [
       "<Figure size 1080x1080 with 2 Axes>"
      ]
     },
     "metadata": {
      "needs_background": "light"
     },
     "output_type": "display_data"
    }
   ],
   "source": [
    "corr = full_feats.drop('sites_text',axis=1).corr()\n",
    "top_corr_features = corr.index\n",
    "plt.figure(figsize=(20,20))\n",
    "sns.heatmap(corr,xticklabels = corr.columns,yticklabels = corr.columns,annot=True,cmap='RdYlGn')"
   ]
  },
  {
   "cell_type": "markdown",
   "metadata": {},
   "source": [
    "### Sort features by importance via XGBClassifier"
   ]
  },
  {
   "cell_type": "code",
   "execution_count": null,
   "metadata": {},
   "outputs": [],
   "source": [
    "%%time\n",
    "X_train = full_feats.iloc[:idx_split].drop(['sites_text'],axis=1)\n",
    "xgb = XGBClassifier(n_estimators = 100,random_state = 42)\n",
    "xgb.fit(X_train,y_train)"
   ]
  },
  {
   "cell_type": "code",
   "execution_count": 171,
   "metadata": {},
   "outputs": [
    {
     "data": {
      "text/plain": [
       "Index([u'max-min', u'start_day', u'start_day_of_week', u'median',\n",
       "       u'hour_cos_x', u'day_evening', u'night_morning', u'start_month', u'day',\n",
       "       u'mean', u'time_of_day_overlap', u'short_session', u'skew', u'end_hour',\n",
       "       u'std', u'morning_day', u'hour_sin_x', u'holiday', u'end_day_of_week',\n",
       "       u'var', u'day_overlap', u'end_day', u'evening', u'morning',\n",
       "       u'time_of_day_end', u'time_of_day_start', u'hour_overlap',\n",
       "       u'start_hour', u'end_month', u'night'],\n",
       "      dtype='object')"
      ]
     },
     "execution_count": 171,
     "metadata": {},
     "output_type": "execute_result"
    }
   ],
   "source": [
    "importances_inds = xgb.feature_importances_.argsort()[::-1]\n",
    "\n",
    "columns = full_feats.drop('sites_text',axis=1).columns[importances_inds]\n",
    "columns"
   ]
  },
  {
   "cell_type": "code",
   "execution_count": 136,
   "metadata": {},
   "outputs": [],
   "source": [
    "X_train_scaled = StandardScaler().fit_transform(X_train)"
   ]
  },
  {
   "cell_type": "code",
   "execution_count": 150,
   "metadata": {
    "collapsed": true
   },
   "outputs": [
    {
     "name": "stdout",
     "output_type": "stream",
     "text": [
      "Iter 1 out of 26 is finished\n",
      "Iter 2 out of 26 is finished\n",
      "Iter 3 out of 26 is finished\n",
      "Iter 4 out of 26 is finished\n",
      "Iter 5 out of 26 is finished\n",
      "Iter 6 out of 26 is finished\n",
      "Iter 7 out of 26 is finished\n",
      "Iter 8 out of 26 is finished\n",
      "Iter 9 out of 26 is finished\n",
      "Iter 10 out of 26 is finished\n",
      "Iter 11 out of 26 is finished\n",
      "Iter 12 out of 26 is finished\n",
      "Iter 13 out of 26 is finished\n",
      "Iter 14 out of 26 is finished\n",
      "Iter 15 out of 26 is finished\n",
      "Iter 16 out of 26 is finished\n",
      "Iter 17 out of 26 is finished\n",
      "Iter 18 out of 26 is finished\n",
      "Iter 19 out of 26 is finished\n",
      "Iter 20 out of 26 is finished\n",
      "Iter 21 out of 26 is finished\n",
      "Iter 22 out of 26 is finished\n",
      "Iter 23 out of 26 is finished\n",
      "Iter 24 out of 26 is finished\n",
      "Iter 25 out of 26 is finished\n",
      "Iter 26 out of 26 is finished\n",
      "Iter 27 out of 26 is finished\n",
      "Iter 28 out of 26 is finished\n",
      "Iter 29 out of 26 is finished\n",
      "Iter 30 out of 26 is finished\n",
      "Wall time: 1h 3min 49s\n"
     ]
    }
   ],
   "source": [
    "%%time\n",
    "cv_split = TimeSeriesSplit(n_splits = 10)\n",
    "cols = []\n",
    "res = []\n",
    "for ind,col in enumerate(columns):\n",
    "    cur_set = columns[:ind+1]\n",
    "    cols.append(cur_set)\n",
    "    inds = importances_inds[:ind+1]\n",
    "    cur_data = csr_matrix(hstack((train_sites_sparse,X_train_scaled[:,inds])))\n",
    "    result = cross_val_score(LogisticRegression(random_state=42),cur_data,y_train,cv=cv_split,scoring='roc_auc').mean()\n",
    "    res.append(result)\n",
    "    print 'Iter %i out of 26 is finished' % (ind + 1)"
   ]
  },
  {
   "cell_type": "markdown",
   "metadata": {},
   "source": [
    "### ROC-AUC score dependancy from number of features"
   ]
  },
  {
   "cell_type": "code",
   "execution_count": 3,
   "metadata": {},
   "outputs": [
    {
     "data": {
      "text/html": [
       "<img src=\"picture.png\"/>"
      ],
      "text/plain": [
       "<IPython.core.display.Image object>"
      ]
     },
     "execution_count": 3,
     "metadata": {},
     "output_type": "execute_result"
    }
   ],
   "source": [
    "from IPython.display import Image\n",
    "from IPython.core.display import HTML \n",
    "Image(url= \"picture.png\")"
   ]
  },
  {
   "cell_type": "code",
   "execution_count": 152,
   "metadata": {},
   "outputs": [
    {
     "data": {
      "text/plain": [
       "12"
      ]
     },
     "execution_count": 152,
     "metadata": {},
     "output_type": "execute_result"
    }
   ],
   "source": [
    "np.argmax(res)"
   ]
  },
  {
   "cell_type": "code",
   "execution_count": 8,
   "metadata": {},
   "outputs": [],
   "source": [
    "selected_feats = full_feats[columns[:13]]\n",
    "scaler = StandardScaler()\n",
    "X_train_scaled = scaler.fit_transform(selected_feats.iloc[:idx_split])\n",
    "X_test_scaled = scaler.transform(selected_feats.iloc[idx_split:])"
   ]
  },
  {
   "cell_type": "markdown",
   "metadata": {},
   "source": [
    "### Tuning LogisticRegression"
   ]
  },
  {
   "cell_type": "code",
   "execution_count": 14,
   "metadata": {},
   "outputs": [
    {
     "name": "stdout",
     "output_type": "stream",
     "text": [
      "Wall time: 4min 39s\n"
     ]
    }
   ],
   "source": [
    "%%time\n",
    "X_train_full = csr_matrix(hstack((train_sites_sparse,X_train_scaled)))\n",
    "pars = {'C': np.logspace(-10,0,20)}\n",
    "clf = LogisticRegression(random_state = 42)\n",
    "grid_x = GridSearchCV(clf, pars, cv=cv_split,scoring='roc_auc',n_jobs=-1)\n",
    "grid_x.fit(X_train_full,y_train)"
   ]
  },
  {
   "cell_type": "code",
   "execution_count": 16,
   "metadata": {},
   "outputs": [
    {
     "name": "stdout",
     "output_type": "stream",
     "text": [
      "{'C': 0.08858667904100832} 0.9070421664053244\n"
     ]
    }
   ],
   "source": [
    "print grid_x.best_params_, grid_x.best_score_"
   ]
  },
  {
   "cell_type": "code",
   "execution_count": 17,
   "metadata": {},
   "outputs": [],
   "source": [
    "# from mlxtend.classifier import StackingClassifier\n",
    "C_best = 0.08858667904100832"
   ]
  },
  {
   "cell_type": "code",
   "execution_count": 18,
   "metadata": {},
   "outputs": [],
   "source": [
    "best_col_set = columns[:13]"
   ]
  },
  {
   "cell_type": "markdown",
   "metadata": {},
   "source": [
    "### Making Predictions"
   ]
  },
  {
   "cell_type": "code",
   "execution_count": 22,
   "metadata": {},
   "outputs": [],
   "source": [
    "train = csr_matrix(hstack((train_sites_sparse,X_train_scaled)))\n",
    "test = csr_matrix(hstack((test_sites_sparse,X_test_scaled)))\n",
    "\n",
    "clf = LogisticRegression(C=C_best, random_state=42)\n",
    "clf.fit(train,y_train)\n",
    "\n",
    "y_test = clf.predict_proba(test)[:, 1]\n",
    "\n",
    "# Write it to the submission file\n",
    "write_to_submission_file(y_test, 'selected_features_attempt_1.csv')"
   ]
  }
 ],
 "metadata": {
  "kernelspec": {
   "display_name": "Python 2",
   "language": "python",
   "name": "python2"
  },
  "language_info": {
   "codemirror_mode": {
    "name": "ipython",
    "version": 2
   },
   "file_extension": ".py",
   "mimetype": "text/x-python",
   "name": "python",
   "nbconvert_exporter": "python",
   "pygments_lexer": "ipython2",
   "version": "2.7.15"
  },
  "notify_time": "5"
 },
 "nbformat": 4,
 "nbformat_minor": 2
}
