{
 "cells": [
  {
   "cell_type": "code",
   "execution_count": 1,
   "metadata": {},
   "outputs": [
    {
     "name": "stdout",
     "output_type": "stream",
     "text": [
      "Populating the interactive namespace from numpy and matplotlib\n"
     ]
    }
   ],
   "source": [
    "import pandas as pd\n",
    "import numpy as np\n",
    "import warnings \n",
    "from sklearn.preprocessing import Imputer,StandardScaler,LabelEncoder,PolynomialFeatures,MinMaxScaler,OneHotEncoder,RobustScaler\n",
    "from sklearn.linear_model import LinearRegression,SGDRegressor,Lasso,ElasticNet,Ridge\n",
    "from sklearn.kernel_ridge import KernelRidge\n",
    "from sklearn.base import TransformerMixin,BaseEstimator\n",
    "from sklearn_pandas import DataFrameMapper, cross_val_score\n",
    "from sklearn.pipeline import Pipeline,make_pipeline\n",
    "from sklearn.ensemble import RandomForestRegressor,AdaBoostRegressor,GradientBoostingRegressor\n",
    "from matplotlib import pyplot\n",
    "import seaborn as sns\n",
    "import pickle\n",
    "from sklearn.svm import LinearSVR,SVR\n",
    "from sklearn.model_selection import KFold,GridSearchCV,RandomizedSearchCV,ShuffleSplit,train_test_split,cross_val_predict,cross_validate\n",
    "from sklearn.feature_selection import RFECV,SelectKBest\n",
    "from scipy.stats import normaltest,skew,skewtest,boxcox,probplot\n",
    "from tqdm import tqdm_notebook as tqdm\n",
    "from sklearn.cluster import KMeans\n",
    "from sklearn.neighbors import KNeighborsRegressor\n",
    "from sklearn.decomposition import PCA\n",
    "from mlxtend.regressor import StackingRegressor\n",
    "from featexp import get_trend_stats,get_univariate_plots\n",
    "import xgboost as xgb\n",
    "import lightgbm as lgb\n",
    "from xgboost.sklearn import XGBRegressor\n",
    "from sklearn.tree import DecisionTreeRegressor\n",
    "import re\n",
    "%pylab inline\n",
    "pd.set_option('display.max_columns', 500)\n",
    "warnings.filterwarnings('ignore')\n",
    "    \n",
    "def make_submission(preds):\n",
    "    sample = pd.read_csv('sample_submission.csv')\n",
    "    sample['SalePrice'] = preds\n",
    "    sample.to_csv('submission.csv',index=False)\n",
    "    \n",
    "def rmsle_cv(model):\n",
    "    n_folds = 5\n",
    "    kf = KFold(n_folds, shuffle=True, random_state=42)\n",
    "    rmse= np.sqrt(-cross_val_score(model, train, y_train, scoring=\"neg_mean_squared_error\", cv = kf))\n",
    "    return(rmse)\n",
    "\n"
   ]
  },
  {
   "cell_type": "markdown",
   "metadata": {},
   "source": [
    "## Data preparation"
   ]
  },
  {
   "cell_type": "markdown",
   "metadata": {},
   "source": [
    "After several tries and with regard to some other kernels I decided to get rid of most significant outliers, fix skewness of some variables, add a little bit of my own and do a heavy grid search on a large set of models to find the best options.\n",
    "\n",
    "From other kernels (especially https://www.kaggle.com/pmarcelino/comprehensive-data-exploration-with-python) it is clear, that we are dealing with some kind of linear relationship between independant variables and target (at least, the most important ones are with no doubt in this kind of linearship), but I won't limit myself with linear models only. One of the purposes of this kernel is to get some practical experience with different models and to get a \"feel\" of what could fit and what couldn't. So let's do it!"
   ]
  },
  {
   "cell_type": "code",
   "execution_count": 12,
   "metadata": {},
   "outputs": [],
   "source": [
    "train_df = pd.read_csv('train.csv')\n",
    "test_df = pd.read_csv('test.csv')\n",
    "\n",
    "train_df.drop(\"Id\",1,inplace=True)\n",
    "test_df.drop(\"Id\",1,inplace=True)\n",
    "\n",
    "#Outliers\n",
    "train_df = train_df.drop(train_df[(train_df['GrLivArea']>4000) & (train_df['SalePrice']<300000)].index)\n",
    "train_df[\"SalePrice\"] = np.log1p(train_df[\"SalePrice\"])\n",
    "\n",
    "#\n",
    "y_train = train_df.SalePrice.values\n",
    "train_df.drop('SalePrice',axis=1,inplace=True)\n",
    "\n",
    "with open('features_dict','rb') as f:\n",
    "    features_dict = pickle.load(f)\n",
    "    \n",
    "idx_split = train_df.shape[0]\n",
    "full_df = pd.concat((train_df,test_df))\n",
    "\n",
    "\n"
   ]
  },
  {
   "cell_type": "code",
   "execution_count": 13,
   "metadata": {
    "scrolled": false
   },
   "outputs": [
    {
     "data": {
      "text/html": [
       "<div>\n",
       "<style scoped>\n",
       "    .dataframe tbody tr th:only-of-type {\n",
       "        vertical-align: middle;\n",
       "    }\n",
       "\n",
       "    .dataframe tbody tr th {\n",
       "        vertical-align: top;\n",
       "    }\n",
       "\n",
       "    .dataframe thead th {\n",
       "        text-align: right;\n",
       "    }\n",
       "</style>\n",
       "<table border=\"1\" class=\"dataframe\">\n",
       "  <thead>\n",
       "    <tr style=\"text-align: right;\">\n",
       "      <th></th>\n",
       "      <th>Missing Ratio</th>\n",
       "    </tr>\n",
       "  </thead>\n",
       "  <tbody>\n",
       "    <tr>\n",
       "      <th>PoolQC</th>\n",
       "      <td>99.691464</td>\n",
       "    </tr>\n",
       "    <tr>\n",
       "      <th>MiscFeature</th>\n",
       "      <td>96.400411</td>\n",
       "    </tr>\n",
       "    <tr>\n",
       "      <th>Alley</th>\n",
       "      <td>93.212204</td>\n",
       "    </tr>\n",
       "    <tr>\n",
       "      <th>Fence</th>\n",
       "      <td>80.425094</td>\n",
       "    </tr>\n",
       "    <tr>\n",
       "      <th>FireplaceQu</th>\n",
       "      <td>48.680151</td>\n",
       "    </tr>\n",
       "  </tbody>\n",
       "</table>\n",
       "</div>"
      ],
      "text/plain": [
       "             Missing Ratio\n",
       "PoolQC           99.691464\n",
       "MiscFeature      96.400411\n",
       "Alley            93.212204\n",
       "Fence            80.425094\n",
       "FireplaceQu      48.680151"
      ]
     },
     "execution_count": 13,
     "metadata": {},
     "output_type": "execute_result"
    }
   ],
   "source": [
    "#Missing values percentage\n",
    "isna_df = (full_df.isnull().sum() / full_df.shape[0] * 100).sort_values(ascending=False)\n",
    "isna_df = pd.DataFrame(data = isna_df[isna_df.values != 0].values,columns=['Missing Ratio'],index=isna_df[isna_df.values != 0].index)\n",
    "isna_df.head()"
   ]
  },
  {
   "cell_type": "markdown",
   "metadata": {},
   "source": [
    "### Fixing some missing values"
   ]
  },
  {
   "cell_type": "code",
   "execution_count": 14,
   "metadata": {},
   "outputs": [],
   "source": [
    "#Feature replacement (data description says NA = No such feature in house)\n",
    "full_df['PoolQC'] = full_df['PoolQC'].fillna(\"None\")\n",
    "full_df['MiscFeature'] = full_df['MiscFeature'].fillna(\"None\")\n",
    "full_df['Alley'] = full_df['Alley'].fillna(\"None\")\n",
    "full_df['FireplaceQu'] = full_df['FireplaceQu'].fillna(\"None\")\n",
    "full_df['Fence'] = full_df['Fence'].fillna(\"None\")\n",
    "\n",
    "#My guess is that Lot frontage could be a median Neighborhood frontage\n",
    "full_df['LotFrontage'] = full_df.groupby(\"Neighborhood\")['LotFrontage'].transform(lambda x: x.fillna(x.median()))\n",
    "\n",
    "#No value == no garage\n",
    "for el in ['GarageCond', 'GarageQual','GarageFinish', 'GarageType']:\n",
    "    full_df[el].fillna(\"None\",inplace=True)\n",
    "\n",
    "#Same thing\n",
    "for el in ['GarageYrBlt', 'GarageArea','GarageCars']:\n",
    "    full_df[el].fillna(0,inplace=True)\n",
    "\n",
    "#Just filling this NaNs\n",
    "for el in ['BsmtFinSF1', 'BsmtFinSF2', 'BsmtUnfSF','TotalBsmtSF', 'BsmtFullBath', 'BsmtHalfBath']:\n",
    "    full_df[el].fillna(0,inplace=True)\n",
    "    \n",
    "for col in ('BsmtQual', 'BsmtCond', 'BsmtExposure', 'BsmtFinType1', 'BsmtFinType2'):\n",
    "    full_df[col] = full_df[col].fillna('None')\n",
    "    \n",
    "\n",
    "\n",
    "full_df[\"MasVnrType\"] = full_df[\"MasVnrType\"].fillna(\"None\")\n",
    "full_df[\"MasVnrArea\"] = full_df[\"MasVnrArea\"].fillna(0)\n",
    "\n",
    "full_df['MSZoning'] = full_df['MSZoning'].fillna(full_df['MSZoning'].mode()[0])\n",
    "full_df.drop(['Utilities'],1,inplace=True)\n",
    "\n",
    "#Data descryption says \"Assume typical unless deductions are warranted\"\n",
    "full_df[\"Functional\"] = full_df[\"Functional\"].fillna(\"Typ\")\n",
    "\n",
    "#Just replace Nan with most typical\n",
    "full_df['Electrical'] = full_df['Electrical'].fillna(full_df['Electrical'].mode()[0])\n",
    "\n",
    "#Same thing\n",
    "full_df['Exterior1st'] = full_df['Exterior1st'].fillna(full_df['Exterior1st'].mode()[0])\n",
    "full_df['Exterior2nd'] = full_df['Exterior2nd'].fillna(full_df['Exterior2nd'].mode()[0])\n",
    "\n",
    "full_df['KitchenQual'] = full_df['KitchenQual'].fillna(full_df['KitchenQual'].mode()[0])\n",
    "\n",
    "full_df['MSSubClass'] = full_df['MSSubClass'].fillna(\"None\")\n",
    "\n",
    "full_df['SaleType'] = full_df['SaleType'].fillna(full_df['SaleType'].mode()[0])\n"
   ]
  },
  {
   "cell_type": "code",
   "execution_count": 15,
   "metadata": {},
   "outputs": [
    {
     "data": {
      "text/plain": [
       "SaleCondition    0.0\n",
       "BsmtQual         0.0\n",
       "Exterior1st      0.0\n",
       "Exterior2nd      0.0\n",
       "MasVnrType       0.0\n",
       "dtype: float64"
      ]
     },
     "execution_count": 15,
     "metadata": {},
     "output_type": "execute_result"
    }
   ],
   "source": [
    "#Check are there any NAn values left\n",
    "(full_df.isna().sum() / full_df.shape[0]).sort_values(ascending=False).head()"
   ]
  },
  {
   "cell_type": "code",
   "execution_count": 16,
   "metadata": {},
   "outputs": [
    {
     "name": "stdout",
     "output_type": "stream",
     "text": [
      "(2917, 78)\n"
     ]
    }
   ],
   "source": [
    "#Some numerical values are really categorical\n",
    "full_df['MSSubClass'] = full_df['MSSubClass'].astype(\"str\")\n",
    "full_df['OverallCond'] = full_df['OverallCond'].astype(\"str\")\n",
    "full_df['YrSold'] = full_df['YrSold'].astype(\"str\")\n",
    "full_df['MoSold'] = full_df['MoSold'].astype(\"str\")\n",
    "\n",
    "cat_cols = ('FireplaceQu', 'BsmtQual', 'BsmtCond', 'GarageQual', 'GarageCond', \n",
    "        'ExterQual', 'ExterCond','HeatingQC', 'PoolQC', 'KitchenQual', 'BsmtFinType1', \n",
    "        'BsmtFinType2', 'Functional', 'Fence', 'BsmtExposure', 'GarageFinish', 'LandSlope',\n",
    "        'LotShape', 'PavedDrive', 'Street', 'Alley', 'CentralAir', 'MSSubClass', 'OverallCond', \n",
    "        'YrSold', 'MoSold')\n",
    "\n",
    "#Encode our variables\n",
    "for el in cat_cols:\n",
    "    full_df[el] = LabelEncoder().fit_transform(full_df[el])\n",
    "    \n",
    "print(full_df.shape)\n",
    "        \n"
   ]
  },
  {
   "cell_type": "code",
   "execution_count": 17,
   "metadata": {},
   "outputs": [],
   "source": [
    "#Let's add some new variables\n",
    "full_df['TotalSF'] = full_df['TotalBsmtSF'] + full_df['1stFlrSF'] + full_df['2ndFlrSF']\n",
    "\n",
    "# Numeric relations \n",
    "full_df['Year_built_decades'] = list(map(int,full_df['YearBuilt'].astype('int64') / 10))\n",
    "full_df['Year_remodel_decades'] = list(map(int,full_df['YearRemodAdd'].astype('int64') / 10))\n",
    "full_df['SF per above room'] = list(map(int,(full_df['GrLivArea'] / full_df['TotRmsAbvGrd'])/10))\n",
    "#Binary features\n",
    "full_df['IsNew'] = full_df['YearBuilt'].apply(lambda x: 1 if x >= 1995 else 0)\n",
    "full_df['Remodeled_recently'] = full_df['YearRemodAdd'].apply(lambda x: 1 if x >= 1995  else 0)\n",
    "full_df['Built and remodeled at once'] = (full_df['YearBuilt']  == full_df['YearRemodAdd']).apply(lambda x: 1 if x == True else 0)\n"
   ]
  },
  {
   "cell_type": "code",
   "execution_count": 18,
   "metadata": {
    "scrolled": false
   },
   "outputs": [
    {
     "name": "stdout",
     "output_type": "stream",
     "text": [
      "\n",
      "Skew in numerical features: \n",
      "\n"
     ]
    },
    {
     "data": {
      "text/html": [
       "<div>\n",
       "<style scoped>\n",
       "    .dataframe tbody tr th:only-of-type {\n",
       "        vertical-align: middle;\n",
       "    }\n",
       "\n",
       "    .dataframe tbody tr th {\n",
       "        vertical-align: top;\n",
       "    }\n",
       "\n",
       "    .dataframe thead th {\n",
       "        text-align: right;\n",
       "    }\n",
       "</style>\n",
       "<table border=\"1\" class=\"dataframe\">\n",
       "  <thead>\n",
       "    <tr style=\"text-align: right;\">\n",
       "      <th></th>\n",
       "      <th>Skew</th>\n",
       "    </tr>\n",
       "  </thead>\n",
       "  <tbody>\n",
       "    <tr>\n",
       "      <th>MiscVal</th>\n",
       "      <td>21.939672</td>\n",
       "    </tr>\n",
       "    <tr>\n",
       "      <th>PoolArea</th>\n",
       "      <td>17.688664</td>\n",
       "    </tr>\n",
       "    <tr>\n",
       "      <th>LotArea</th>\n",
       "      <td>13.109495</td>\n",
       "    </tr>\n",
       "    <tr>\n",
       "      <th>LowQualFinSF</th>\n",
       "      <td>12.084539</td>\n",
       "    </tr>\n",
       "    <tr>\n",
       "      <th>3SsnPorch</th>\n",
       "      <td>11.372080</td>\n",
       "    </tr>\n",
       "    <tr>\n",
       "      <th>LandSlope</th>\n",
       "      <td>4.973254</td>\n",
       "    </tr>\n",
       "    <tr>\n",
       "      <th>KitchenAbvGr</th>\n",
       "      <td>4.300550</td>\n",
       "    </tr>\n",
       "    <tr>\n",
       "      <th>BsmtFinSF2</th>\n",
       "      <td>4.144503</td>\n",
       "    </tr>\n",
       "    <tr>\n",
       "      <th>EnclosedPorch</th>\n",
       "      <td>4.002344</td>\n",
       "    </tr>\n",
       "    <tr>\n",
       "      <th>ScreenPorch</th>\n",
       "      <td>3.945101</td>\n",
       "    </tr>\n",
       "  </tbody>\n",
       "</table>\n",
       "</div>"
      ],
      "text/plain": [
       "                    Skew\n",
       "MiscVal        21.939672\n",
       "PoolArea       17.688664\n",
       "LotArea        13.109495\n",
       "LowQualFinSF   12.084539\n",
       "3SsnPorch      11.372080\n",
       "LandSlope       4.973254\n",
       "KitchenAbvGr    4.300550\n",
       "BsmtFinSF2      4.144503\n",
       "EnclosedPorch   4.002344\n",
       "ScreenPorch     3.945101"
      ]
     },
     "execution_count": 18,
     "metadata": {},
     "output_type": "execute_result"
    }
   ],
   "source": [
    "#Fixing skewness\n",
    "numeric_feats = full_df.dtypes[full_df.dtypes != \"object\"].index\n",
    "\n",
    "# Check the skew of all numerical features\n",
    "skewed_feats = full_df[numeric_feats].apply(lambda x: skew(x.dropna())).sort_values(ascending=False)\n",
    "print(\"\\nSkew in numerical features: \\n\")\n",
    "skewness = pd.DataFrame({'Skew' :skewed_feats})\n",
    "skewness.head(10)"
   ]
  },
  {
   "cell_type": "code",
   "execution_count": 19,
   "metadata": {},
   "outputs": [],
   "source": [
    "#Box-Cox for some reasons did better job than just log1p\n",
    "from scipy.special import boxcox1p\n",
    "skewed_features = skewness[abs(skewness) > 0.75].index\n",
    "lmbda = 0.15\n",
    "for el in skewed_features:\n",
    "    full_df[el] = boxcox1p(full_df[el],lmbda)"
   ]
  },
  {
   "cell_type": "code",
   "execution_count": 20,
   "metadata": {},
   "outputs": [],
   "source": [
    "#Save everything so there is no need to run this part of code again\n",
    "full_df.to_csv('clean_full_df.csv',index=False)\n",
    "\n",
    "full_df = pd.get_dummies(full_df)\n",
    "train = full_df.iloc[:idx_split]\n",
    "test = full_df.iloc[idx_split:]\n",
    "full_df.to_csv('full_df_new_features_dummies.csv',index=False)"
   ]
  },
  {
   "cell_type": "markdown",
   "metadata": {},
   "source": [
    "Finally, let's look at top-20 important features due to RandomForest"
   ]
  },
  {
   "cell_type": "code",
   "execution_count": 64,
   "metadata": {},
   "outputs": [
    {
     "data": {
      "text/plain": [
       "(-1, 20)"
      ]
     },
     "execution_count": 64,
     "metadata": {},
     "output_type": "execute_result"
    },
    {
     "data": {
      "image/png": "[encoded data removed]",
      "text/plain": [
       "<Figure size 1440x720 with 1 Axes>"
      ]
     },
     "metadata": {
      "needs_background": "light"
     },
     "output_type": "display_data"
    }
   ],
   "source": [
    "forest = RandomForestRegressor()\n",
    "forest.fit(full_df.iloc[:idx_split],y_train)\n",
    "importances = forest.feature_importances_\n",
    "importance_values = sorted(importances,reverse=True)\n",
    "importance_columns = full_df.columns[importances.argsort()[::-1]]\n",
    "\n",
    "plt.figure(figsize=(20,10))\n",
    "plt.title(\"Top 20 features\",fontsize=20)\n",
    "plt.bar(range(20),importance_values[:20],color='g',align=\"center\")\n",
    "plt.xticks(range(20),importance_columns[:20],rotation=90)\n",
    "plt.ylabel(\"Feature importance\")\n",
    "plt.xlim([-1,20])"
   ]
  },
  {
   "cell_type": "markdown",
   "metadata": {},
   "source": [
    "## Going to models"
   ]
  },
  {
   "cell_type": "code",
   "execution_count": 21,
   "metadata": {},
   "outputs": [],
   "source": [
    "full_df = pd.read_csv('full_df_new_features_dummies.csv')\n",
    "with open('y_train.pickle','rb') as f:\n",
    "    y_train = pickle.load(f)\n",
    "idx_split = 1458\n",
    "train = full_df.iloc[:idx_split]\n",
    "test = full_df.iloc[idx_split:]"
   ]
  },
  {
   "cell_type": "code",
   "execution_count": 65,
   "metadata": {},
   "outputs": [],
   "source": [
    "#Creating a bunch of pipelines. RobustScaler did the better job than the StandardScaler, so I will use it.\n",
    "pipes = [\n",
    "    Pipeline([('scaler',RobustScaler()), ('regressor',Lasso(random_state = 42))]),\n",
    "    Pipeline([('scaler',RobustScaler()), ('regressor',Ridge(random_state = 42))]),\n",
    "    Pipeline([('scaler',RobustScaler()), ('regressor',ElasticNet(random_state = 42))]),\n",
    "    Pipeline([('scaler',RobustScaler()), ('regressor',LinearRegression())]),\n",
    "    Pipeline([('regressor',SGDRegressor(random_state = 42))]),\n",
    "    Pipeline([('regressor',RandomForestRegressor(random_state = 42))]),\n",
    "    Pipeline([('regressor',AdaBoostRegressor(random_state = 42))]),\n",
    "    Pipeline([('regressor',GradientBoostingRegressor(random_state = 42))]),\n",
    "    Pipeline([('scaler',RobustScaler()), ('regressor',LinearSVR(random_state = 42))]),\n",
    "    Pipeline([('scaler',RobustScaler()), ('regressor',SVR())]),\n",
    "    Pipeline([('scaler',RobustScaler()), ('regressor',KNeighborsRegressor())]),\n",
    "    Pipeline([('regressor',XGBRegressor(random_state = 42))]),\n",
    "    Pipeline([('regressor',lgb.LGBMRegressor(objective='regression'))]),\n",
    "    Pipeline([('scaler',RobustScaler()),('regressor',KernelRidge())])\n",
    "]"
   ]
  },
  {
   "cell_type": "code",
   "execution_count": 75,
   "metadata": {
    "collapsed": true
   },
   "outputs": [
    {
     "name": "stdout",
     "output_type": "stream",
     "text": [
      "Iter 1 out of 14 completed\n",
      "Iter 2 out of 14 completed\n",
      "Iter 3 out of 14 completed\n",
      "Iter 4 out of 14 completed\n",
      "Iter 5 out of 14 completed\n",
      "Iter 6 out of 14 completed\n",
      "Iter 7 out of 14 completed\n",
      "Iter 8 out of 14 completed\n",
      "Iter 9 out of 14 completed\n",
      "Iter 10 out of 14 completed\n",
      "Iter 11 out of 14 completed\n",
      "Iter 12 out of 14 completed\n",
      "Iter 13 out of 14 completed\n",
      "Iter 14 out of 14 completed\n"
     ]
    }
   ],
   "source": [
    "#Looking at the default models performance\n",
    "arr = np.zeros(shape=(len(pipes),3),dtype='object')\n",
    "for ind,pipe in enumerate(pipes):\n",
    "    m = re.match(\"(.+)([.])([A-Za-z0-9-]+)(['>])\",str(type(pipe.get_params()['regressor'])))\n",
    "    score = rmsle_cv(pipe)\n",
    "    arr[ind] = [m.group(3),score.mean(),score.std()]   \n",
    "    print(\"Iter %i out of %i completed\" % (ind + 1,len(pipes)))  \n",
    "    "
   ]
  },
  {
   "cell_type": "code",
   "execution_count": 76,
   "metadata": {},
   "outputs": [
    {
     "data": {
      "text/html": [
       "<div>\n",
       "<style scoped>\n",
       "    .dataframe tbody tr th:only-of-type {\n",
       "        vertical-align: middle;\n",
       "    }\n",
       "\n",
       "    .dataframe tbody tr th {\n",
       "        vertical-align: top;\n",
       "    }\n",
       "\n",
       "    .dataframe thead th {\n",
       "        text-align: right;\n",
       "    }\n",
       "</style>\n",
       "<table border=\"1\" class=\"dataframe\">\n",
       "  <thead>\n",
       "    <tr style=\"text-align: right;\">\n",
       "      <th></th>\n",
       "      <th>mean</th>\n",
       "      <th>std</th>\n",
       "    </tr>\n",
       "  </thead>\n",
       "  <tbody>\n",
       "    <tr>\n",
       "      <th>Ridge</th>\n",
       "      <td>0.118592</td>\n",
       "      <td>0.00875171</td>\n",
       "    </tr>\n",
       "    <tr>\n",
       "      <th>KernelRidge</th>\n",
       "      <td>0.118714</td>\n",
       "      <td>0.00884865</td>\n",
       "    </tr>\n",
       "    <tr>\n",
       "      <th>GradientBoostingRegressor</th>\n",
       "      <td>0.123949</td>\n",
       "      <td>0.00754242</td>\n",
       "    </tr>\n",
       "    <tr>\n",
       "      <th>XGBRegressor</th>\n",
       "      <td>0.124891</td>\n",
       "      <td>0.00818421</td>\n",
       "    </tr>\n",
       "    <tr>\n",
       "      <th>LGBMRegressor</th>\n",
       "      <td>0.128591</td>\n",
       "      <td>0.0065018</td>\n",
       "    </tr>\n",
       "    <tr>\n",
       "      <th>SVR</th>\n",
       "      <td>0.128747</td>\n",
       "      <td>0.0093131</td>\n",
       "    </tr>\n",
       "    <tr>\n",
       "      <th>LinearRegression</th>\n",
       "      <td>0.129784</td>\n",
       "      <td>0.0115422</td>\n",
       "    </tr>\n",
       "    <tr>\n",
       "      <th>RandomForestRegressor</th>\n",
       "      <td>0.144558</td>\n",
       "      <td>0.00724976</td>\n",
       "    </tr>\n",
       "    <tr>\n",
       "      <th>LinearSVR</th>\n",
       "      <td>0.145976</td>\n",
       "      <td>0.0169677</td>\n",
       "    </tr>\n",
       "    <tr>\n",
       "      <th>AdaBoostRegressor</th>\n",
       "      <td>0.16703</td>\n",
       "      <td>0.00350905</td>\n",
       "    </tr>\n",
       "    <tr>\n",
       "      <th>KNeighborsRegressor</th>\n",
       "      <td>0.192954</td>\n",
       "      <td>0.00554241</td>\n",
       "    </tr>\n",
       "    <tr>\n",
       "      <th>ElasticNet</th>\n",
       "      <td>0.377555</td>\n",
       "      <td>0.0152579</td>\n",
       "    </tr>\n",
       "    <tr>\n",
       "      <th>Lasso</th>\n",
       "      <td>0.377989</td>\n",
       "      <td>0.0155542</td>\n",
       "    </tr>\n",
       "    <tr>\n",
       "      <th>SGDRegressor</th>\n",
       "      <td>4.87627e+12</td>\n",
       "      <td>3.68652e+12</td>\n",
       "    </tr>\n",
       "  </tbody>\n",
       "</table>\n",
       "</div>"
      ],
      "text/plain": [
       "                                  mean          std\n",
       "Ridge                         0.118592   0.00875171\n",
       "KernelRidge                   0.118714   0.00884865\n",
       "GradientBoostingRegressor     0.123949   0.00754242\n",
       "XGBRegressor                  0.124891   0.00818421\n",
       "LGBMRegressor                 0.128591    0.0065018\n",
       "SVR                           0.128747    0.0093131\n",
       "LinearRegression              0.129784    0.0115422\n",
       "RandomForestRegressor         0.144558   0.00724976\n",
       "LinearSVR                     0.145976    0.0169677\n",
       "AdaBoostRegressor              0.16703   0.00350905\n",
       "KNeighborsRegressor           0.192954   0.00554241\n",
       "ElasticNet                    0.377555    0.0152579\n",
       "Lasso                         0.377989    0.0155542\n",
       "SGDRegressor               4.87627e+12  3.68652e+12"
      ]
     },
     "execution_count": 76,
     "metadata": {},
     "output_type": "execute_result"
    }
   ],
   "source": [
    "res_df = pd.DataFrame(index=arr[:,0],columns=['mean','std'],data=arr[:,1:])\n",
    "res_df.sort_values('mean')"
   ]
  },
  {
   "cell_type": "markdown",
   "metadata": {},
   "source": [
    "At this stage it is too early to make any conclusions, since situation could change drastically after model tuning. So let's do it!\n",
    "\n",
    "P.S: If you're not comfortable with lot (no, LOOOOOT) of GridSearch, you could skip this part safely (still, maybe you will be interested in XGBoost tuning, since it's not so obviuos, as it may seem)"
   ]
  },
  {
   "cell_type": "markdown",
   "metadata": {},
   "source": [
    "## Model tuning"
   ]
  },
  {
   "cell_type": "code",
   "execution_count": 66,
   "metadata": {},
   "outputs": [],
   "source": [
    "cv_split = KFold(n_splits = 5,random_state = 42,shuffle=True)"
   ]
  },
  {
   "cell_type": "markdown",
   "metadata": {},
   "source": [
    "### Elastic Net"
   ]
  },
  {
   "cell_type": "markdown",
   "metadata": {},
   "source": [
    "Linear model with both L1 and L2 regularization"
   ]
  },
  {
   "cell_type": "code",
   "execution_count": 28,
   "metadata": {
    "scrolled": true
   },
   "outputs": [
    {
     "name": "stdout",
     "output_type": "stream",
     "text": [
      "Fitting 5 folds for each of 1600 candidates, totalling 8000 fits\n"
     ]
    },
    {
     "name": "stderr",
     "output_type": "stream",
     "text": [
      "[Parallel(n_jobs=-1)]: Using backend LokyBackend with 4 concurrent workers.\n",
      "[Parallel(n_jobs=-1)]: Done  33 tasks      | elapsed:    6.5s\n",
      "[Parallel(n_jobs=-1)]: Done 154 tasks      | elapsed:   28.9s\n",
      "[Parallel(n_jobs=-1)]: Done 357 tasks      | elapsed:  1.1min\n",
      "[Parallel(n_jobs=-1)]: Done 640 tasks      | elapsed:  2.1min\n",
      "[Parallel(n_jobs=-1)]: Done 1005 tasks      | elapsed:  3.1min\n",
      "[Parallel(n_jobs=-1)]: Done 1450 tasks      | elapsed:  4.5min\n",
      "[Parallel(n_jobs=-1)]: Done 1977 tasks      | elapsed:  5.9min\n",
      "[Parallel(n_jobs=-1)]: Done 2584 tasks      | elapsed:  7.2min\n",
      "[Parallel(n_jobs=-1)]: Done 3273 tasks      | elapsed:  8.5min\n",
      "[Parallel(n_jobs=-1)]: Done 4042 tasks      | elapsed:  9.8min\n",
      "[Parallel(n_jobs=-1)]: Done 4893 tasks      | elapsed: 11.1min\n",
      "[Parallel(n_jobs=-1)]: Done 5824 tasks      | elapsed: 12.5min\n",
      "[Parallel(n_jobs=-1)]: Done 6837 tasks      | elapsed: 13.8min\n",
      "[Parallel(n_jobs=-1)]: Done 7930 tasks      | elapsed: 15.1min\n",
      "[Parallel(n_jobs=-1)]: Done 8000 out of 8000 | elapsed: 15.2min finished\n"
     ]
    },
    {
     "name": "stdout",
     "output_type": "stream",
     "text": [
      "{'regressor__alpha': 0.0020256410256410257, 'regressor__l1_ratio': 0.2}\n"
     ]
    }
   ],
   "source": [
    "elastic = pipes[2]\n",
    "pars = {\n",
    "    'regressor__alpha': np.linspace(0.001,0.005,40,endpoint=True),\n",
    "    'regressor__l1_ratio': np.linspace(0.1,0.2,40,endpoint=True)\n",
    "}\n",
    "elastic_grid = GridSearchCV(elastic,pars,scoring='neg_mean_squared_error',cv=cv_split,n_jobs=-1,verbose=2)\n",
    "elastic_grid.fit(train,y_train)\n",
    "print(elastic_grid.best_params_)"
   ]
  },
  {
   "cell_type": "code",
   "execution_count": 31,
   "metadata": {},
   "outputs": [
    {
     "name": "stdout",
     "output_type": "stream",
     "text": [
      "Fitting 5 folds for each of 40 candidates, totalling 200 fits\n"
     ]
    },
    {
     "name": "stderr",
     "output_type": "stream",
     "text": [
      "[Parallel(n_jobs=-1)]: Using backend LokyBackend with 4 concurrent workers.\n",
      "[Parallel(n_jobs=-1)]: Done  33 tasks      | elapsed:    6.4s\n",
      "[Parallel(n_jobs=-1)]: Done 154 tasks      | elapsed:   22.2s\n",
      "[Parallel(n_jobs=-1)]: Done 200 out of 200 | elapsed:   27.7s finished\n"
     ]
    },
    {
     "name": "stdout",
     "output_type": "stream",
     "text": [
      "{'regressor__alpha': 0.0020256410256410257, 'regressor__l1_ratio': 0.2158974358974359}\n"
     ]
    }
   ],
   "source": [
    "#L1 ratio is on upper bound of our search space, so we have to perform search again\n",
    "pars = {\n",
    "    'regressor__alpha': [0.0020256410256410257],\n",
    "    'regressor__l1_ratio': np.linspace(0.18,0.28,40,endpoint=True)\n",
    "}\n",
    "elastic_grid = GridSearchCV(elastic,pars,scoring='neg_mean_squared_error',cv=cv_split,n_jobs=-1,verbose=2)\n",
    "elastic_grid.fit(train,y_train)\n",
    "print(elastic_grid.best_params_)"
   ]
  },
  {
   "cell_type": "markdown",
   "metadata": {},
   "source": [
    "### Lasso"
   ]
  },
  {
   "cell_type": "markdown",
   "metadata": {},
   "source": [
    "Linear model with L1-regularization (shrinks unnecessary feature's coefficents to zero)"
   ]
  },
  {
   "cell_type": "code",
   "execution_count": 44,
   "metadata": {},
   "outputs": [
    {
     "name": "stdout",
     "output_type": "stream",
     "text": [
      "Fitting 5 folds for each of 80 candidates, totalling 400 fits\n"
     ]
    },
    {
     "name": "stderr",
     "output_type": "stream",
     "text": [
      "[Parallel(n_jobs=-1)]: Using backend LokyBackend with 4 concurrent workers.\n",
      "[Parallel(n_jobs=-1)]: Done  33 tasks      | elapsed:    3.8s\n",
      "[Parallel(n_jobs=-1)]: Done 154 tasks      | elapsed:   20.4s\n",
      "[Parallel(n_jobs=-1)]: Done 357 tasks      | elapsed:   44.4s\n",
      "[Parallel(n_jobs=-1)]: Done 400 out of 400 | elapsed:   49.0s finished\n"
     ]
    },
    {
     "name": "stdout",
     "output_type": "stream",
     "text": [
      "{'regressor__alpha': 0.0005075949367088608}\n"
     ]
    }
   ],
   "source": [
    "lasso = pipes[0]\n",
    "pars = {\n",
    "    'regressor__alpha': np.linspace(0.0001,0.0008,80,endpoint=True)\n",
    "}\n",
    "lasso_grid = GridSearchCV(lasso,pars,'neg_mean_squared_error',cv=cv_split,n_jobs=-1,verbose=2)\n",
    "lasso_grid.fit(train,y_train)\n",
    "print(lasso_grid.best_params_)"
   ]
  },
  {
   "cell_type": "markdown",
   "metadata": {},
   "source": [
    "### Ridge"
   ]
  },
  {
   "cell_type": "markdown",
   "metadata": {},
   "source": [
    "Linear model with L2-regularization (penalizes large coefficents, but do not shrink them to zero)"
   ]
  },
  {
   "cell_type": "code",
   "execution_count": 36,
   "metadata": {},
   "outputs": [
    {
     "name": "stdout",
     "output_type": "stream",
     "text": [
      "Fitting 5 folds for each of 80 candidates, totalling 400 fits\n"
     ]
    },
    {
     "name": "stderr",
     "output_type": "stream",
     "text": [
      "[Parallel(n_jobs=-1)]: Using backend LokyBackend with 4 concurrent workers.\n",
      "[Parallel(n_jobs=-1)]: Done  33 tasks      | elapsed:    2.3s\n",
      "[Parallel(n_jobs=-1)]: Done 154 tasks      | elapsed:    9.2s\n",
      "[Parallel(n_jobs=-1)]: Done 357 tasks      | elapsed:   27.9s\n",
      "[Parallel(n_jobs=-1)]: Done 400 out of 400 | elapsed:   30.9s finished\n"
     ]
    },
    {
     "name": "stdout",
     "output_type": "stream",
     "text": [
      "{'regressor__alpha': 14.949367088607595}\n",
      "(array([50], dtype=int64),)\n"
     ]
    }
   ],
   "source": [
    "ridge = pipes[1]\n",
    "pars = {\n",
    "#     'regressor__alpha': np.logspace(-4,4,20)\n",
    "    'regressor__alpha': np.linspace(14,15.5,80)\n",
    "}\n",
    "ridge_grid = GridSearchCV(ridge,pars,'neg_mean_squared_error',cv=cv_split,n_jobs=-1,verbose=2)\n",
    "ridge_grid.fit(train,y_train)\n",
    "print(ridge_grid.best_params_)\n",
    "print(np.where(pars['regressor__alpha'] == ridge_grid.best_params_['regressor__alpha']))"
   ]
  },
  {
   "cell_type": "markdown",
   "metadata": {},
   "source": [
    "### Gradient Boosting"
   ]
  },
  {
   "cell_type": "markdown",
   "metadata": {},
   "source": [
    "Idea of boosting is to combine a lot of weak learners to strong learner. There are a lot of boosting alghoritms and a lot of ways to implement this general idea. Gradient boosting fits new weak learner on residuals (in case of classification - on pseudo-residuals) of previous ones using the gradient descent of the loss function to improve the strong learner's performance\n",
    "\n",
    "Actually, the idea of heavy grid search was wrong with this algorithm - it would be better to go through every parameter one by one to reduce time spent on search. I tried this approach later on XGBoost and it was much better in terms of computational efficiency and time spent."
   ]
  },
  {
   "cell_type": "code",
   "execution_count": 82,
   "metadata": {
    "collapsed": true
   },
   "outputs": [
    {
     "name": "stdout",
     "output_type": "stream",
     "text": [
      "Fitting 5 folds for each of 36750 candidates, totalling 183750 fits\n"
     ]
    },
    {
     "name": "stderr",
     "output_type": "stream",
     "text": [
      "[Parallel(n_jobs=-1)]: Using backend LokyBackend with 4 concurrent workers.\n",
      "[Parallel(n_jobs=-1)]: Done  33 tasks      | elapsed:   12.6s\n",
      "[Parallel(n_jobs=-1)]: Done 154 tasks      | elapsed:   51.1s\n",
      "[Parallel(n_jobs=-1)]: Done 357 tasks      | elapsed:  2.1min\n",
      "[Parallel(n_jobs=-1)]: Done 640 tasks      | elapsed:  3.8min\n",
      "[Parallel(n_jobs=-1)]: Done 1005 tasks      | elapsed:  6.0min\n",
      "[Parallel(n_jobs=-1)]: Done 1450 tasks      | elapsed:  8.4min\n",
      "[Parallel(n_jobs=-1)]: Done 1977 tasks      | elapsed: 11.3min\n",
      "[Parallel(n_jobs=-1)]: Done 2584 tasks      | elapsed: 15.1min\n",
      "[Parallel(n_jobs=-1)]: Done 3273 tasks      | elapsed: 19.1min\n",
      "[Parallel(n_jobs=-1)]: Done 4042 tasks      | elapsed: 24.0min\n",
      "[Parallel(n_jobs=-1)]: Done 4893 tasks      | elapsed: 29.6min\n",
      "[Parallel(n_jobs=-1)]: Done 5824 tasks      | elapsed: 36.0min\n",
      "[Parallel(n_jobs=-1)]: Done 6837 tasks      | elapsed: 43.6min\n",
      "[Parallel(n_jobs=-1)]: Done 7930 tasks      | elapsed: 53.0min\n",
      "[Parallel(n_jobs=-1)]: Done 9105 tasks      | elapsed: 62.8min\n",
      "[Parallel(n_jobs=-1)]: Done 10360 tasks      | elapsed: 70.5min\n",
      "[Parallel(n_jobs=-1)]: Done 11697 tasks      | elapsed: 82.6min\n",
      "[Parallel(n_jobs=-1)]: Done 13114 tasks      | elapsed: 97.0min\n",
      "[Parallel(n_jobs=-1)]: Done 14613 tasks      | elapsed: 113.4min\n",
      "[Parallel(n_jobs=-1)]: Done 16192 tasks      | elapsed: 134.6min\n",
      "[Parallel(n_jobs=-1)]: Done 17853 tasks      | elapsed: 153.0min\n",
      "[Parallel(n_jobs=-1)]: Done 19594 tasks      | elapsed: 166.4min\n",
      "[Parallel(n_jobs=-1)]: Done 21417 tasks      | elapsed: 184.3min\n",
      "[Parallel(n_jobs=-1)]: Done 23320 tasks      | elapsed: 206.8min\n",
      "[Parallel(n_jobs=-1)]: Done 25305 tasks      | elapsed: 234.0min\n",
      "[Parallel(n_jobs=-1)]: Done 27370 tasks      | elapsed: 251.8min\n",
      "[Parallel(n_jobs=-1)]: Done 29517 tasks      | elapsed: 268.7min\n",
      "[Parallel(n_jobs=-1)]: Done 31744 tasks      | elapsed: 295.5min\n",
      "[Parallel(n_jobs=-1)]: Done 34053 tasks      | elapsed: 328.6min\n",
      "[Parallel(n_jobs=-1)]: Done 36442 tasks      | elapsed: 347.5min\n",
      "[Parallel(n_jobs=-1)]: Done 38913 tasks      | elapsed: 372.6min\n",
      "[Parallel(n_jobs=-1)]: Done 41464 tasks      | elapsed: 402.9min\n",
      "[Parallel(n_jobs=-1)]: Done 44097 tasks      | elapsed: 436.8min\n",
      "[Parallel(n_jobs=-1)]: Done 46810 tasks      | elapsed: 458.3min\n",
      "[Parallel(n_jobs=-1)]: Done 49605 tasks      | elapsed: 492.7min\n",
      "[Parallel(n_jobs=-1)]: Done 52480 tasks      | elapsed: 528.4min\n",
      "[Parallel(n_jobs=-1)]: Done 55437 tasks      | elapsed: 553.8min\n",
      "[Parallel(n_jobs=-1)]: Done 58474 tasks      | elapsed: 590.5min\n",
      "[Parallel(n_jobs=-1)]: Done 61593 tasks      | elapsed: 626.2min\n",
      "[Parallel(n_jobs=-1)]: Done 64792 tasks      | elapsed: 641.5min\n",
      "[Parallel(n_jobs=-1)]: Done 68073 tasks      | elapsed: 662.6min\n",
      "[Parallel(n_jobs=-1)]: Done 71434 tasks      | elapsed: 686.3min\n",
      "[Parallel(n_jobs=-1)]: Done 74877 tasks      | elapsed: 713.9min\n",
      "[Parallel(n_jobs=-1)]: Done 78400 tasks      | elapsed: 752.2min\n",
      "[Parallel(n_jobs=-1)]: Done 82005 tasks      | elapsed: 780.4min\n",
      "[Parallel(n_jobs=-1)]: Done 85690 tasks      | elapsed: 820.8min\n",
      "[Parallel(n_jobs=-1)]: Done 89457 tasks      | elapsed: 861.8min\n",
      "[Parallel(n_jobs=-1)]: Done 93304 tasks      | elapsed: 905.4min\n",
      "[Parallel(n_jobs=-1)]: Done 97233 tasks      | elapsed: 951.7min\n",
      "[Parallel(n_jobs=-1)]: Done 101242 tasks      | elapsed: 990.0min\n",
      "[Parallel(n_jobs=-1)]: Done 105333 tasks      | elapsed: 1046.5min\n",
      "[Parallel(n_jobs=-1)]: Done 109504 tasks      | elapsed: 1087.1min\n",
      "[Parallel(n_jobs=-1)]: Done 113757 tasks      | elapsed: 1142.8min\n",
      "[Parallel(n_jobs=-1)]: Done 118090 tasks      | elapsed: 1186.3min\n",
      "[Parallel(n_jobs=-1)]: Done 122505 tasks      | elapsed: 1243.6min\n",
      "[Parallel(n_jobs=-1)]: Done 127000 tasks      | elapsed: 1266.6min\n",
      "[Parallel(n_jobs=-1)]: Done 131577 tasks      | elapsed: 1298.9min\n",
      "[Parallel(n_jobs=-1)]: Done 136234 tasks      | elapsed: 1333.4min\n",
      "[Parallel(n_jobs=-1)]: Done 140973 tasks      | elapsed: 1381.6min\n",
      "[Parallel(n_jobs=-1)]: Done 145792 tasks      | elapsed: 1428.2min\n",
      "[Parallel(n_jobs=-1)]: Done 150693 tasks      | elapsed: 1479.6min\n",
      "[Parallel(n_jobs=-1)]: Done 155674 tasks      | elapsed: 1534.2min\n",
      "[Parallel(n_jobs=-1)]: Done 160737 tasks      | elapsed: 1588.9min\n",
      "[Parallel(n_jobs=-1)]: Done 165880 tasks      | elapsed: 1658.3min\n",
      "[Parallel(n_jobs=-1)]: Done 171105 tasks      | elapsed: 1708.0min\n",
      "[Parallel(n_jobs=-1)]: Done 176410 tasks      | elapsed: 1773.2min\n",
      "[Parallel(n_jobs=-1)]: Done 181797 tasks      | elapsed: 1834.6min\n",
      "[Parallel(n_jobs=-1)]: Done 183750 out of 183750 | elapsed: 1863.9min finished\n"
     ]
    },
    {
     "name": "stdout",
     "output_type": "stream",
     "text": [
      "{'regressor__learning_rate': 0.1, 'regressor__max_depth': 2.0, 'regressor__max_features': 0.25, 'regressor__min_samples_leaf': 0.1, 'regressor__min_samples_split': 0.4111111111111111, 'regressor__n_estimators': 1600}\n"
     ]
    }
   ],
   "source": [
    "gbr = pipes[7]\n",
    "pars = {\n",
    "    'regressor__learning_rate' : [0.001,0.01,0.1],\n",
    "    'regressor__n_estimators': np.arange(100,3500,500),\n",
    "    'regressor__max_depth': np.linspace(1, 7,7, endpoint=True),\n",
    "    'regressor__min_samples_split': np.linspace(0.1, 0.5, 10, endpoint=True),\n",
    "    'regressor__min_samples_leaf': np.linspace(0.1, 0.5, 5, endpoint=True),\n",
    "    'regressor__max_features': np.linspace(0.1, 0.3, 5, endpoint=True),\n",
    "}\n",
    "grid = RandomSearchCV(gbr,pars,n_iters=500,scoring='neg_mean_squared_error',cv=cv_split,n_jobs=-1,verbose=2)\n",
    "grid.fit(train,y_train)\n",
    "print(grid.best_params_)"
   ]
  },
  {
   "cell_type": "markdown",
   "metadata": {},
   "source": [
    "### SVR "
   ]
  },
  {
   "cell_type": "markdown",
   "metadata": {},
   "source": [
    "Before this competition I knew a little bit about SVR from \"Hands on machine learning book\" and just used the algorithm, but after I decided to publish this kernel on Kaggle I felt some motivation to dive deeper :)\n",
    "\n",
    "The main difference between SVR and simple regression is that in regression we try to minimize the error rate, while in SVR we want to fit the error within a certain threshold. And while in Regression we have only the hyperplane, in SVR we have also the margins which we are also want to fit (as I understood, the objective for margin is different for classification and regression). What's more important - it allowes us to perform a kernel trick to map a low dimensional data in high dimensinal data with no need to actually create all this polynomial features which will make everything slow and also could make other models performance worse."
   ]
  },
  {
   "cell_type": "markdown",
   "metadata": {},
   "source": [
    "Spoiler: I tried only linear kernel, because all others did significantly worse. So, another argument for linear relationship in this dataset. "
   ]
  },
  {
   "cell_type": "code",
   "execution_count": 39,
   "metadata": {},
   "outputs": [
    {
     "name": "stdout",
     "output_type": "stream",
     "text": [
      "Fitting 5 folds for each of 80 candidates, totalling 400 fits\n"
     ]
    },
    {
     "name": "stderr",
     "output_type": "stream",
     "text": [
      "[Parallel(n_jobs=-1)]: Using backend LokyBackend with 4 concurrent workers.\n",
      "[Parallel(n_jobs=-1)]: Done  33 tasks      | elapsed:   11.4s\n",
      "[Parallel(n_jobs=-1)]: Done 154 tasks      | elapsed:   55.2s\n",
      "[Parallel(n_jobs=-1)]: Done 357 tasks      | elapsed:  2.2min\n",
      "[Parallel(n_jobs=-1)]: Done 400 out of 400 | elapsed:  2.5min finished\n"
     ]
    },
    {
     "name": "stdout",
     "output_type": "stream",
     "text": [
      "{'regressor__C': 0.00989873417721519, 'regressor__epsilon': 0.01, 'regressor__kernel': 'linear'}\n",
      "(array([37], dtype=int64),)\n",
      "0.1136152744186472\n"
     ]
    }
   ],
   "source": [
    "svr = pipes[9]\n",
    "pars = {\n",
    "    'regressor__kernel': ['linear'],\n",
    "    'regressor__C': np.linspace(0.001,0.02,80,endpoint=True),\n",
    "    'regressor__epsilon': [0.01],   \n",
    "}\n",
    "svr_grid = GridSearchCV(svr,pars,scoring='neg_mean_squared_error',cv=cv_split,n_jobs=-1,verbose=2)\n",
    "svr_grid.fit(train,y_train)\n",
    "print(svr_grid.best_params_) \n",
    "print(np.where(pars['regressor__C'] == svr_grid.best_params_['regressor__C']))\n",
    "print(rmsle_cv(svr_grid.best_estimator_).mean())"
   ]
  },
  {
   "cell_type": "markdown",
   "metadata": {},
   "source": [
    "### Random Forest"
   ]
  },
  {
   "cell_type": "markdown",
   "metadata": {},
   "source": [
    "Another ensemble technique. Since one Decision Tree is not so good at anything, let's create a lot of possibly overfitted trees, trained on different bootstrapped (sampling with replacement) with random features selected. Combining all that selectively wise predictors we get another kind of strong learner."
   ]
  },
  {
   "cell_type": "markdown",
   "metadata": {},
   "source": [
    "This I decided not to tune, since AdaBoost and XGBoost are also based on Decision Trees and even before tuning did significantly better than RF. Also, in articles that I read they usually outperformed RF, so again - no tuning. Sorry, Random Forest!"
   ]
  },
  {
   "cell_type": "code",
   "execution_count": null,
   "metadata": {},
   "outputs": [],
   "source": [
    "# forest = pipes[5]\n",
    "# pars = {\n",
    "#     'regressor__learning_rate' : [0.001,0.01,0.1],\n",
    "#     'regressor__n_estimators': np.arange(100,3500,500),\n",
    "#     'regressor__max_depth': np.linspace(1, 7,7, endpoint=True),\n",
    "#     'regressor__min_samples_split': np.linspace(0.1, 0.5, 10, endpoint=True),\n",
    "#     'regressor__min_samples_leaf': np.linspace(0.1, 0.5, 5, endpoint=True),\n",
    "#     'regressor__max_features': np.linspace(0.1, 0.3, 5, endpoint=True),\n",
    "# }\n",
    "# grid = GridSearchCV(forest,pars,'neg_mean_squared_error',cv=cv_split,n_jobs=-1,verbose=2)\n",
    "# grid.fit(train,y_train)\n",
    "# print(grid.best_params_)"
   ]
  },
  {
   "cell_type": "markdown",
   "metadata": {
    "heading_collapsed": true
   },
   "source": [
    "### Linear SVR (Check)"
   ]
  },
  {
   "cell_type": "markdown",
   "metadata": {
    "hidden": true
   },
   "source": [
    "Actually, as I understood after I did all this - there was no need to use Linear SVR, since there is no big difference between it and SVR (linear kernel!). But sometimes, good thoughts appear in your head too late :)"
   ]
  },
  {
   "cell_type": "code",
   "execution_count": 40,
   "metadata": {
    "hidden": true,
    "scrolled": true
   },
   "outputs": [
    {
     "name": "stdout",
     "output_type": "stream",
     "text": [
      "Fitting 5 folds for each of 400 candidates, totalling 2000 fits\n"
     ]
    },
    {
     "name": "stderr",
     "output_type": "stream",
     "text": [
      "[Parallel(n_jobs=-1)]: Using backend LokyBackend with 4 concurrent workers.\n",
      "[Parallel(n_jobs=-1)]: Done  33 tasks      | elapsed:    5.6s\n",
      "[Parallel(n_jobs=-1)]: Done 154 tasks      | elapsed:   17.2s\n",
      "[Parallel(n_jobs=-1)]: Done 357 tasks      | elapsed:   36.0s\n",
      "[Parallel(n_jobs=-1)]: Done 640 tasks      | elapsed:  1.1min\n",
      "[Parallel(n_jobs=-1)]: Done 1005 tasks      | elapsed:  1.9min\n",
      "[Parallel(n_jobs=-1)]: Done 1450 tasks      | elapsed:  2.6min\n",
      "[Parallel(n_jobs=-1)]: Done 1977 tasks      | elapsed:  3.5min\n",
      "[Parallel(n_jobs=-1)]: Done 2000 out of 2000 | elapsed:  3.6min finished\n"
     ]
    },
    {
     "name": "stdout",
     "output_type": "stream",
     "text": [
      "{'regressor__C': 0.7787179487179487, 'regressor__epsilon': 0.1111111111111111}\n"
     ]
    }
   ],
   "source": [
    "lin_svr = pipes[8]\n",
    "pars = {\n",
    "    'regressor__C': np.linspace(0.01,15,40,endpoint=True),\n",
    "    'regressor__epsilon': np.linspace(0,1,10),\n",
    "}\n",
    "lin_svr_grid = GridSearchCV(lin_svr,pars,'neg_mean_squared_error',cv=cv_split,n_jobs=-1,verbose=2)\n",
    "lin_svr_grid.fit(train,y_train)\n",
    "print(lin_svr_grid.best_params_)"
   ]
  },
  {
   "cell_type": "code",
   "execution_count": 64,
   "metadata": {
    "hidden": true
   },
   "outputs": [
    {
     "name": "stdout",
     "output_type": "stream",
     "text": [
      "Fitting 5 folds for each of 80 candidates, totalling 400 fits\n"
     ]
    },
    {
     "name": "stderr",
     "output_type": "stream",
     "text": [
      "[Parallel(n_jobs=-1)]: Using backend LokyBackend with 4 concurrent workers.\n",
      "[Parallel(n_jobs=-1)]: Done  58 tasks      | elapsed:    5.9s\n",
      "[Parallel(n_jobs=-1)]: Done 300 tasks      | elapsed:   31.5s\n",
      "[Parallel(n_jobs=-1)]: Done 400 out of 400 | elapsed:   42.7s finished\n"
     ]
    },
    {
     "name": "stdout",
     "output_type": "stream",
     "text": [
      "{'regressor__C': 0.5112658227848101, 'regressor__epsilon': 0.0}\n"
     ]
    }
   ],
   "source": [
    "pars = {\n",
    "    'regressor__C': np.linspace(0.1,1,80,endpoint=True),\n",
    "    'regressor__epsilon': [0.1],\n",
    "}\n",
    "lin_svr_grid = GridSearchCV(lin_svr,pars,'neg_mean_squared_error',cv=cv_split,n_jobs=-1,verbose=2)\n",
    "lin_svr_grid.fit(train,y_train)\n",
    "print(lin_svr_grid.best_params_)"
   ]
  },
  {
   "cell_type": "markdown",
   "metadata": {
    "heading_collapsed": true
   },
   "source": [
    "### Ada"
   ]
  },
  {
   "cell_type": "markdown",
   "metadata": {
    "hidden": true
   },
   "source": [
    "AdaBoost is an interesting boosting algorithm. Instead of training new weak learners on residuals, it assign new weights for training instances - larger weights for those, who were predicted incorrectly and smaller weights for others."
   ]
  },
  {
   "cell_type": "code",
   "execution_count": 71,
   "metadata": {
    "hidden": true,
    "scrolled": true
   },
   "outputs": [
    {
     "name": "stdout",
     "output_type": "stream",
     "text": [
      "Fitting 5 folds for each of 8 candidates, totalling 40 fits\n"
     ]
    },
    {
     "name": "stderr",
     "output_type": "stream",
     "text": [
      "[Parallel(n_jobs=-1)]: Using backend LokyBackend with 4 concurrent workers.\n",
      "[Parallel(n_jobs=-1)]: Done  33 tasks      | elapsed:   19.3s\n",
      "[Parallel(n_jobs=-1)]: Done  40 out of  40 | elapsed:   23.9s finished\n"
     ]
    },
    {
     "name": "stdout",
     "output_type": "stream",
     "text": [
      "{'regressor__base_estimator': DecisionTreeRegressor(criterion='mse', max_depth=12, max_features=None,\n",
      "           max_leaf_nodes=None, min_impurity_decrease=0.0,\n",
      "           min_impurity_split=None, min_samples_leaf=1,\n",
      "           min_samples_split=2, min_weight_fraction_leaf=0.0,\n",
      "           presort=False, random_state=None, splitter='best')}\n"
     ]
    }
   ],
   "source": [
    "ada = pipes[6]\n",
    "pars = {\n",
    "    'regressor__base_estimator': [DecisionTreeRegressor(max_depth=6),DecisionTreeRegressor(max_depth=7),\n",
    "                                  DecisionTreeRegressor(max_depth=8),DecisionTreeRegressor(max_depth=9),\n",
    "                                 DecisionTreeRegressor(max_depth=10),DecisionTreeRegressor(max_depth=11),\n",
    "                                 DecisionTreeRegressor(max_depth=12),DecisionTreeRegressor(max_depth=13),]\n",
    "}\n",
    "ada_grid = GridSearchCV(ada,pars,'neg_mean_squared_error',cv=cv_split,n_jobs=-1,verbose=2)\n",
    "ada_grid.fit(train,y_train)\n",
    "print(ada_grid.best_params_)"
   ]
  },
  {
   "cell_type": "code",
   "execution_count": 72,
   "metadata": {
    "hidden": true
   },
   "outputs": [
    {
     "name": "stdout",
     "output_type": "stream",
     "text": [
      "Fitting 5 folds for each of 7 candidates, totalling 35 fits\n"
     ]
    },
    {
     "name": "stderr",
     "output_type": "stream",
     "text": [
      "[Parallel(n_jobs=-1)]: Using backend LokyBackend with 4 concurrent workers.\n",
      "[Parallel(n_jobs=-1)]: Done  35 out of  35 | elapsed: 17.1min finished\n"
     ]
    },
    {
     "name": "stdout",
     "output_type": "stream",
     "text": [
      "{'regressor__base_estimator': DecisionTreeRegressor(criterion='mse', max_depth=12, max_features=None,\n",
      "           max_leaf_nodes=None, min_impurity_decrease=0.0,\n",
      "           min_impurity_split=None, min_samples_leaf=1,\n",
      "           min_samples_split=2, min_weight_fraction_leaf=0.0,\n",
      "           presort=False, random_state=None, splitter='best'), 'regressor__learning_rate': 0.01, 'regressor__n_estimators': 3100}\n"
     ]
    }
   ],
   "source": [
    "pars = {\n",
    "    'regressor__base_estimator': [DecisionTreeRegressor(max_depth=12)],\n",
    "    'regressor__learning_rate' : [0.01],\n",
    "    'regressor__n_estimators': np.arange(100,3500,500),\n",
    "}\n",
    "ada_grid = GridSearchCV(ada,pars,'neg_mean_squared_error',cv=cv_split,n_jobs=-1,verbose=2)\n",
    "ada_grid.fit(train,y_train)\n",
    "print(ada_grid.best_params_)"
   ]
  },
  {
   "cell_type": "markdown",
   "metadata": {
    "hidden": true
   },
   "source": [
    "Poor performance, trains for a while, no need to use it"
   ]
  },
  {
   "cell_type": "code",
   "execution_count": 75,
   "metadata": {
    "hidden": true
   },
   "outputs": [
    {
     "data": {
      "text/plain": [
       "0.13937397872137705"
      ]
     },
     "execution_count": 75,
     "metadata": {},
     "output_type": "execute_result"
    }
   ],
   "source": [
    "rmsle_cv(ada_grid.best_estimator_).mean()"
   ]
  },
  {
   "cell_type": "markdown",
   "metadata": {},
   "source": [
    "### KNR"
   ]
  },
  {
   "cell_type": "markdown",
   "metadata": {},
   "source": [
    "This algorithm calculates the mean value of n nearest neighbours and even after tuning performs poorly. No surprise, actually"
   ]
  },
  {
   "cell_type": "code",
   "execution_count": 31,
   "metadata": {},
   "outputs": [
    {
     "name": "stdout",
     "output_type": "stream",
     "text": [
      "Fitting 5 folds for each of 650 candidates, totalling 3250 fits\n"
     ]
    },
    {
     "name": "stderr",
     "output_type": "stream",
     "text": [
      "[Parallel(n_jobs=-1)]: Using backend LokyBackend with 4 concurrent workers.\n",
      "[Parallel(n_jobs=-1)]: Done  33 tasks      | elapsed:   33.9s\n",
      "[Parallel(n_jobs=-1)]: Done 154 tasks      | elapsed:  2.5min\n",
      "[Parallel(n_jobs=-1)]: Done 357 tasks      | elapsed:  5.4min\n",
      "[Parallel(n_jobs=-1)]: Done 640 tasks      | elapsed:  9.8min\n",
      "[Parallel(n_jobs=-1)]: Done 1005 tasks      | elapsed: 15.1min\n",
      "[Parallel(n_jobs=-1)]: Done 1450 tasks      | elapsed: 18.9min\n",
      "[Parallel(n_jobs=-1)]: Done 1977 tasks      | elapsed: 23.3min\n",
      "[Parallel(n_jobs=-1)]: Done 2584 tasks      | elapsed: 27.5min\n",
      "[Parallel(n_jobs=-1)]: Done 3250 out of 3250 | elapsed: 31.6min finished\n"
     ]
    },
    {
     "name": "stdout",
     "output_type": "stream",
     "text": [
      "{'regressor__leaf_size': 2, 'regressor__n_neighbors': 4, 'regressor__weights': 'distance'}\n"
     ]
    }
   ],
   "source": [
    "knr = pipes[-4]\n",
    "pars = {\n",
    "    'regressor__n_neighbors' : list(map(int,np.linspace(4,7,endpoint=True))),\n",
    "    'regressor__weights': ['uniform','distance'],\n",
    "    'regressor__leaf_size': np.arange(10,45,10)\n",
    "}\n",
    "grid = GridSearchCV(knr,pars,'neg_mean_squared_error',cv=cv_split,n_jobs=-1,verbose=2)\n",
    "grid.fit(train,y_train)\n",
    "print(grid.best_params_)\n",
    "\n",
    "knr = pipes[-4]\n",
    "pars = {\n",
    "    'regressor__n_neighbors' : list(map(int,np.linspace(2,4,endpoint=True))),\n",
    "    'regressor__weights': ['distance'],\n",
    "    'regressor__leaf_size': np.arange(2,15)\n",
    "}\n",
    "grid = GridSearchCV(knr,pars,'neg_mean_squared_error',cv=cv_split,n_jobs=-1,verbose=2)\n",
    "grid.fit(train,y_train)\n",
    "print(grid.best_params_)"
   ]
  },
  {
   "cell_type": "markdown",
   "metadata": {},
   "source": [
    "### KernelRidge"
   ]
  },
  {
   "cell_type": "markdown",
   "metadata": {},
   "source": [
    "Since the best possible kernel for this task is linear, there was no actual need in trying out this algorithm, but anyway, as I asid, some good thoughts appear too late."
   ]
  },
  {
   "cell_type": "code",
   "execution_count": 62,
   "metadata": {},
   "outputs": [
    {
     "name": "stdout",
     "output_type": "stream",
     "text": [
      "Fitting 5 folds for each of 40 candidates, totalling 200 fits\n"
     ]
    },
    {
     "name": "stderr",
     "output_type": "stream",
     "text": [
      "[Parallel(n_jobs=-1)]: Using backend LokyBackend with 4 concurrent workers.\n",
      "[Parallel(n_jobs=-1)]: Done  33 tasks      | elapsed:    4.1s\n",
      "[Parallel(n_jobs=-1)]: Done 154 tasks      | elapsed:   19.0s\n",
      "[Parallel(n_jobs=-1)]: Done 200 out of 200 | elapsed:   25.9s finished\n"
     ]
    },
    {
     "name": "stdout",
     "output_type": "stream",
     "text": [
      "{'regressor__alpha': 0.01}\n"
     ]
    }
   ],
   "source": [
    "kernelridge = pipes[-1]\n",
    "pars = {\n",
    "    'regressor__alpha': np.linspace(0.00001,0.01,40,endpoint=True),\n",
    "}\n",
    "grid = GridSearchCV(kernelridge,pars,'neg_mean_squared_error',cv=cv_split,n_jobs=-1,verbose=2)\n",
    "grid.fit(train,y_train)\n",
    "print(grid.best_params_)"
   ]
  },
  {
   "cell_type": "markdown",
   "metadata": {},
   "source": [
    "### LightGBM"
   ]
  },
  {
   "cell_type": "markdown",
   "metadata": {},
   "source": [
    "Another boosting algorithm. Actually, it is advised not to use it on small datasets, but for some reasons that will be unraveld later, I decided to use it. Main difference from other boosting algorithms - it grows tree leaf-wise, not level-wise. On a large sets it can even outperform XGB."
   ]
  },
  {
   "cell_type": "code",
   "execution_count": 44,
   "metadata": {},
   "outputs": [
    {
     "data": {
      "text/plain": [
       "LGBMRegressor(boosting_type='gbdt', class_weight=None, colsample_bytree=1.0,\n",
       "       importance_type='split', learning_rate=0.1, max_depth=-1,\n",
       "       min_child_samples=20, min_child_weight=0.001, min_split_gain=0.0,\n",
       "       n_estimators=100, n_jobs=-1, num_leaves=31, objective='regression',\n",
       "       random_state=None, reg_alpha=0.0, reg_lambda=0.0, silent=True,\n",
       "       subsample=1.0, subsample_for_bin=200000, subsample_freq=0)"
      ]
     },
     "execution_count": 44,
     "metadata": {},
     "output_type": "execute_result"
    }
   ],
   "source": [
    "lgb_clf = pipes[12]\n",
    "lgb_clf.get_params()['regressor']"
   ]
  },
  {
   "cell_type": "code",
   "execution_count": 81,
   "metadata": {},
   "outputs": [
    {
     "name": "stdout",
     "output_type": "stream",
     "text": [
      "Fitting 5 folds for each of 20 candidates, totalling 100 fits\n"
     ]
    },
    {
     "name": "stderr",
     "output_type": "stream",
     "text": [
      "[Parallel(n_jobs=-1)]: Using backend LokyBackend with 4 concurrent workers.\n",
      "[Parallel(n_jobs=-1)]: Done  33 tasks      | elapsed:    3.6s\n",
      "[Parallel(n_jobs=-1)]: Done 100 out of 100 | elapsed:   10.4s finished\n"
     ]
    },
    {
     "name": "stdout",
     "output_type": "stream",
     "text": [
      "{'regressor__colsample_bytree': 0.21379310344827587, 'regressor__lambda': 9, 'regressor__learning_rate': 0.12368421052631579, 'regressor__max_depth': 30, 'regressor__n_estimators': 175, 'regressor__num_leaves': 12, 'regressor__reg_alpha': 0.2, 'regressor__subsample': 0.1}\n",
      "0.11843399667559204\n"
     ]
    }
   ],
   "source": [
    "lgb_pars = {\n",
    "    'regressor__lambda': [9],\n",
    "    'regressor__max_depth': [30],\n",
    "    'regressor__num_leaves': [12],\n",
    "    'regressor__n_estimators': [175],\n",
    "    'regressor__subsample': [0.1],\n",
    "    'regressor__colsample_bytree': [0.21379310344827587],\n",
    "    'regressor__reg_alpha': [0.2],\n",
    "}\n",
    "lgb_grid = GridSearchCV(lgb_clf,lgb_pars,'neg_mean_squared_error',cv=cv_split,n_jobs=-1,verbose=2)\n",
    "lgb_grid.fit(train,y_train)\n",
    "print(lgb_grid.best_params_)\n",
    "print(rmsle_cv(lgb_grid.best_estimator_).mean())"
   ]
  },
  {
   "cell_type": "code",
   "execution_count": null,
   "metadata": {},
   "outputs": [],
   "source": [
    "lgb_pars = {\n",
    "    'regressor__lambda': 9,\n",
    "    'regressor__max_depth': 30,\n",
    "    'regressor__num_leaves': 12,\n",
    "    'regressor__n_estimators': 175,\n",
    "    'regressor__subsample': 0.1,\n",
    "    'regressor__colsample_bytree': 0.21379310344827587,\n",
    "    'regressor__reg_alpha': 0.2,\n",
    "}"
   ]
  },
  {
   "cell_type": "markdown",
   "metadata": {},
   "source": [
    "### XGBoost "
   ]
  },
  {
   "cell_type": "markdown",
   "metadata": {},
   "source": [
    "One of the most popular machine learning algorithms. As ordinary gradient boosting, it learns on the residuals, but here we could do a lot of interesting things - define custom loss function, tweak a lot of parameters, use different types of regularization. I found the guide for tuning XGB here: https://www.analyticsvidhya.com/blog/2016/03/complete-guide-parameter-tuning-xgboost-with-codes-python/\n",
    "\n",
    "Plot size on next cells is too low, but I didn't want to rerun all this process again, so - my apologize. Since we're not so interested in feature importance now, it is not a big fault."
   ]
  },
  {
   "cell_type": "code",
   "execution_count": 77,
   "metadata": {},
   "outputs": [],
   "source": [
    "#Helping function\n",
    "from sklearn import metrics\n",
    "def modelfit(alg, dtrain, predictors,useTrainCV=True, cv_folds=5, early_stopping_rounds=50):\n",
    "    if useTrainCV:\n",
    "        xgb_param = alg.get_xgb_params()\n",
    "        xgtrain = xgb.DMatrix(dtrain[predictors].values, label=dtrain['target'].values)\n",
    "        cvresult = xgb.cv(xgb_param, xgtrain, num_boost_round=alg.get_params()['n_estimators'], nfold=cv_folds,\n",
    "            metrics='rmse', early_stopping_rounds=early_stopping_rounds,stratified=False)\n",
    "        alg.set_params(n_estimators=cvresult.shape[0])\n",
    "        print( 'N_estimators best = %i' % cvresult.shape[0])\n",
    "    \n",
    "    #Fit the algorithm on the data\n",
    "    alg.fit(dtrain[predictors], dtrain['target'],eval_metric='auc')\n",
    "        \n",
    "    #Predict training set:\n",
    "    dtrain_predictions = alg.predict(dtrain[predictors])\n",
    "        \n",
    "    #print( model report:\n",
    "    print( \"\\nModel Report\")\n",
    "    print( \"MSE : %.4g\" % metrics.mean_squared_error(dtrain['target'].values, dtrain_predictions))\n",
    "                    \n",
    "    feat_imp = pd.Series(alg.get_booster().get_fscore()).sort_values(ascending=False)\n",
    "#     print( feat_imp.shape\n",
    "    plt.figure(figsize=(20,20))\n",
    "    feat_imp.plot(kind='bar', title='Feature Importances')\n",
    "    plt.ylabel('Feature Importance Score')"
   ]
  },
  {
   "cell_type": "code",
   "execution_count": 261,
   "metadata": {
    "scrolled": true
   },
   "outputs": [
    {
     "name": "stdout",
     "output_type": "stream",
     "text": [
      "N_estimators best = 355\n",
      "\n",
      "Model Report\n",
      "MSE : 0.0002311\n"
     ]
    },
    {
     "data": {
      "image/png": "[encoded data removed]",
      "text/plain": [
       "<Figure size 432x288 with 1 Axes>"
      ]
     },
     "metadata": {
      "needs_background": "light"
     },
     "output_type": "display_data"
    }
   ],
   "source": [
    "#Set the initial parameters\n",
    "xgb_y_train = pd.DataFrame(y_train,columns=['target'])\n",
    "xgb_train = pd.concat([train,xgb_y_train],axis=1)\n",
    "xgboost = pipes[-3]\n",
    "xgboost.set_params(**{\n",
    "    'regressor__learning_rate': 0.1,\n",
    "    'regressor__n_estimators': 1000, \n",
    "    'regressor__max_depth': 5,     \n",
    "    'regressor__min_child_weight': 1,     \n",
    "    'regressor__gamma': 0,  \n",
    "    'regressor__subsample': 0.8,     \n",
    "    'regressor__colsample_bytree': 0.8,     \n",
    "    'regressor__objective' : 'reg:linear',     \n",
    "    'regressor__nthread': 4,\n",
    "    'regressor__scale_pos_weight': 1,\n",
    "    'regressor__seed': 2,\n",
    "})\n",
    "xgboost = xgboost.get_params()['regressor']\n",
    "modelfit(xgboost, xgb_train, train.columns)"
   ]
  },
  {
   "cell_type": "markdown",
   "metadata": {},
   "source": [
    "From here and to the end I will follow the guide, so comments are not needed. The main principle is clear - we want to tune parameters one by one with relatively high learning rate and in the end we want to lower learning rate and find an optimal number of estimators"
   ]
  },
  {
   "cell_type": "code",
   "execution_count": 234,
   "metadata": {},
   "outputs": [
    {
     "name": "stdout",
     "output_type": "stream",
     "text": [
      "Fitting 3 folds for each of 9 candidates, totalling 27 fits\n"
     ]
    },
    {
     "name": "stderr",
     "output_type": "stream",
     "text": [
      "[Parallel(n_jobs=-1)]: Using backend LokyBackend with 4 concurrent workers.\n",
      "[Parallel(n_jobs=-1)]: Done  27 out of  27 | elapsed:  1.7min finished\n"
     ]
    },
    {
     "name": "stdout",
     "output_type": "stream",
     "text": [
      "-0.01414685274340618 {'max_depth': 2, 'min_child_weight': 2}\n"
     ]
    }
   ],
   "source": [
    "xgboost.set_params(**{'n_estimators': 355})\n",
    "param_test_1 = {\n",
    "    'max_depth': list(range(2,5)),\n",
    "    'min_child_weight': list(range(1,4))\n",
    "}\n",
    "grid_1 = GridSearchCV(xgboost,param_test_1,scoring='neg_mean_squared_error',n_jobs=-1,verbose=2)\n",
    "grid_1.fit(train,y_train)\n",
    "print(grid_1.best_score_,grid_1.best_params_)"
   ]
  },
  {
   "cell_type": "code",
   "execution_count": 235,
   "metadata": {},
   "outputs": [
    {
     "name": "stdout",
     "output_type": "stream",
     "text": [
      "Fitting 3 folds for each of 5 candidates, totalling 15 fits\n"
     ]
    },
    {
     "name": "stderr",
     "output_type": "stream",
     "text": [
      "[Parallel(n_jobs=-1)]: Using backend LokyBackend with 4 concurrent workers.\n",
      "[Parallel(n_jobs=-1)]: Done  15 out of  15 | elapsed:   43.0s finished\n"
     ]
    },
    {
     "name": "stdout",
     "output_type": "stream",
     "text": [
      "-0.01414685274340618 {'gamma': 0.0}\n"
     ]
    }
   ],
   "source": [
    "xgboost.set_params(**grid_1.best_params_)\n",
    "param_test_2 = {\n",
    "    'gamma':[i/10.0 for i in range(0,5)]\n",
    "}\n",
    "grid_2 = GridSearchCV(xgboost,param_test_2,scoring='neg_mean_squared_error',n_jobs=-1,verbose=2)\n",
    "grid_2.fit(train,y_train)\n",
    "print(grid_2.best_score_,grid_2.best_params_)"
   ]
  },
  {
   "cell_type": "code",
   "execution_count": 237,
   "metadata": {
    "scrolled": false
   },
   "outputs": [
    {
     "name": "stdout",
     "output_type": "stream",
     "text": [
      "N_estimators best = 419\n",
      "\n",
      "Model Report\n",
      "MSE : 0.005115\n"
     ]
    },
    {
     "data": {
      "image/png": "[encoded data removed]",
      "text/plain": [
       "<Figure size 432x288 with 1 Axes>"
      ]
     },
     "metadata": {
      "needs_background": "light"
     },
     "output_type": "display_data"
    }
   ],
   "source": [
    "xgboost.set_params(**grid_2.best_params_)\n",
    "xgboost.set_params(**{'n_estimators': 1000})\n",
    "modelfit(xgboost, xgb_train, train.columns)\n"
   ]
  },
  {
   "cell_type": "code",
   "execution_count": 243,
   "metadata": {},
   "outputs": [
    {
     "name": "stdout",
     "output_type": "stream",
     "text": [
      "Fitting 3 folds for each of 28 candidates, totalling 84 fits\n"
     ]
    },
    {
     "name": "stderr",
     "output_type": "stream",
     "text": [
      "[Parallel(n_jobs=-1)]: Using backend LokyBackend with 4 concurrent workers.\n",
      "[Parallel(n_jobs=-1)]: Done  33 tasks      | elapsed:  1.7min\n",
      "[Parallel(n_jobs=-1)]: Done  84 out of  84 | elapsed:  4.3min finished\n"
     ]
    },
    {
     "name": "stdout",
     "output_type": "stream",
     "text": [
      "-0.014008713975274336 {'colsample_bytree': 0.6, 'subsample': 0.8}\n"
     ]
    }
   ],
   "source": [
    "xgboost.set_params(**{'n_estimators': 419})\n",
    "param_test_3 = {\n",
    " 'subsample':[i/10.0 for i in range(3,10)],\n",
    " 'colsample_bytree':[i/10.0 for i in range(6,10)]\n",
    "}\n",
    "\n",
    "grid_3 = GridSearchCV(xgboost,param_test_3,scoring='neg_mean_squared_error',n_jobs=-1,verbose=2)\n",
    "grid_3.fit(train,y_train)\n",
    "\n",
    "\n",
    "print(grid_3.best_score_,grid_3.best_params_)"
   ]
  },
  {
   "cell_type": "code",
   "execution_count": 244,
   "metadata": {},
   "outputs": [
    {
     "name": "stdout",
     "output_type": "stream",
     "text": [
      "Fitting 3 folds for each of 9 candidates, totalling 27 fits\n"
     ]
    },
    {
     "name": "stderr",
     "output_type": "stream",
     "text": [
      "[Parallel(n_jobs=-1)]: Using backend LokyBackend with 4 concurrent workers.\n",
      "[Parallel(n_jobs=-1)]: Done  27 out of  27 | elapsed:  1.6min finished\n"
     ]
    },
    {
     "name": "stdout",
     "output_type": "stream",
     "text": [
      "-0.013981214256461679 {'colsample_bytree': 0.6, 'subsample': 0.75}\n"
     ]
    }
   ],
   "source": [
    "param_test_3a = {\n",
    " 'subsample':[i/100.0 for i in range(75,90,5)],\n",
    " 'colsample_bytree':[i/100.0 for i in range(55,70,5)]\n",
    "}\n",
    "grid_3a = GridSearchCV(xgboost,param_test_3a,scoring='neg_mean_squared_error',n_jobs=-1,verbose=2)\n",
    "grid_3a.fit(train,y_train)\n",
    "print(grid_3a.best_score_,grid_3a.best_params_)"
   ]
  },
  {
   "cell_type": "code",
   "execution_count": 250,
   "metadata": {},
   "outputs": [
    {
     "name": "stdout",
     "output_type": "stream",
     "text": [
      "Fitting 3 folds for each of 10 candidates, totalling 30 fits\n"
     ]
    },
    {
     "name": "stderr",
     "output_type": "stream",
     "text": [
      "[Parallel(n_jobs=-1)]: Using backend LokyBackend with 4 concurrent workers.\n",
      "[Parallel(n_jobs=-1)]: Done  30 out of  30 | elapsed:   59.2s finished\n"
     ]
    },
    {
     "name": "stdout",
     "output_type": "stream",
     "text": [
      "-0.013951307640359878 {'reg_alpha': 1e-05}\n"
     ]
    }
   ],
   "source": [
    "xgboost.set_params(**grid_3a.best_params_)\n",
    "param_test4 = {\n",
    " 'reg_alpha':np.linspace(1e-10,1e-5,10)\n",
    "}\n",
    "grid_4 = GridSearchCV(xgboost,param_test4,scoring='neg_mean_squared_error',n_jobs=-1,verbose=2)\n",
    "grid_4.fit(train,y_train)\n",
    "print(grid_4.best_score_,grid_4.best_params_)"
   ]
  },
  {
   "cell_type": "code",
   "execution_count": 256,
   "metadata": {
    "scrolled": true
   },
   "outputs": [
    {
     "name": "stdout",
     "output_type": "stream",
     "text": [
      "N_estimators best = 412\n",
      "\n",
      "Model Report\n",
      "MSE : 0.005346\n"
     ]
    },
    {
     "data": {
      "image/png": "[encoded data removed]",
      "text/plain": [
       "<Figure size 432x288 with 1 Axes>"
      ]
     },
     "metadata": {
      "needs_background": "light"
     },
     "output_type": "display_data"
    }
   ],
   "source": [
    "xgboost.set_params(**grid_4.best_params_)\n",
    "xgboost.set_params(**{'n_estimators': 1000})\n",
    "modelfit(xgboost, xgb_train, train.columns)"
   ]
  },
  {
   "cell_type": "code",
   "execution_count": 269,
   "metadata": {},
   "outputs": [
    {
     "data": {
      "text/plain": [
       "XGBRegressor(base_score=0.5, booster='gbtree', colsample_bylevel=1,\n",
       "       colsample_bytree=0.6, gamma=0.0, importance_type='gain',\n",
       "       learning_rate=0.01, max_delta_step=0, max_depth=2,\n",
       "       min_child_weight=2, missing=None, n_estimators=2818, n_jobs=1,\n",
       "       nthread=4, objective='reg:linear', random_state=42, reg_alpha=1e-05,\n",
       "       reg_lambda=1, scale_pos_weight=1, seed=2, silent=True,\n",
       "       subsample=0.75)"
      ]
     },
     "execution_count": 269,
     "metadata": {},
     "output_type": "execute_result"
    }
   ],
   "source": [
    "grid_4.best_estimator_"
   ]
  },
  {
   "cell_type": "code",
   "execution_count": 266,
   "metadata": {
    "scrolled": false
   },
   "outputs": [
    {
     "name": "stdout",
     "output_type": "stream",
     "text": [
      "N_estimators best = 10000\n",
      "\n",
      "Model Report\n",
      "MSE : 0.01065\n"
     ]
    },
    {
     "data": {
      "image/png": "[encoded data removed]",
      "text/plain": [
       "<Figure size 432x288 with 1 Axes>"
      ]
     },
     "metadata": {
      "needs_background": "light"
     },
     "output_type": "display_data"
    }
   ],
   "source": [
    "xgboost.set_params(**{'n_estimators': 5000,'learning_rate': 0.01})\n",
    "modelfit(xgboost, xgb_train, train.columns)"
   ]
  },
  {
   "cell_type": "code",
   "execution_count": 271,
   "metadata": {},
   "outputs": [],
   "source": [
    "xgboost.set_params(**{'n_estimators': 2818,'learning_rate': 0.01})\n",
    "xgboost.set_params(**{'n_jobs': -1})\n"
   ]
  },
  {
   "cell_type": "code",
   "execution_count": 291,
   "metadata": {},
   "outputs": [
    {
     "data": {
      "text/plain": [
       "{'regressor__base_score': 0.5,\n",
       " 'regressor__booster': 'gbtree',\n",
       " 'regressor__colsample_bylevel': 1,\n",
       " 'regressor__colsample_bytree': 0.6,\n",
       " 'regressor__gamma': 0.0,\n",
       " 'regressor__importance_type': 'gain',\n",
       " 'regressor__learning_rate': 0.01,\n",
       " 'regressor__max_delta_step': 0,\n",
       " 'regressor__max_depth': 2,\n",
       " 'regressor__min_child_weight': 2,\n",
       " 'regressor__missing': None,\n",
       " 'regressor__n_estimators': 2818,\n",
       " 'regressor__n_jobs': -1,\n",
       " 'regressor__nthread': 4,\n",
       " 'regressor__objective': 'reg:linear',\n",
       " 'regressor__random_state': 42,\n",
       " 'regressor__reg_alpha': 1e-05,\n",
       " 'regressor__reg_lambda': 1,\n",
       " 'regressor__scale_pos_weight': 1,\n",
       " 'regressor__seed': 2,\n",
       " 'regressor__silent': True,\n",
       " 'regressor__subsample': 0.75}"
      ]
     },
     "execution_count": 291,
     "metadata": {},
     "output_type": "execute_result"
    }
   ],
   "source": [
    "xgb_pars = xgboost.get_params()\n",
    "xgb_pipe_pars = {}\n",
    "for ind,item in enumerate(xgb_pars.items()):\n",
    "    xgb_pipe_pars.update({'regressor__' + item[0]: item[1]})\n",
    "xgb_pipe_pars"
   ]
  },
  {
   "cell_type": "code",
   "execution_count": 8,
   "metadata": {},
   "outputs": [],
   "source": [
    "xgb_pipe_pars = {'regressor__base_score': 0.5,\n",
    " 'regressor__booster': 'gbtree',\n",
    " 'regressor__colsample_bylevel': 1,\n",
    " 'regressor__colsample_bytree': 0.6,\n",
    " 'regressor__gamma': 0.0,\n",
    " 'regressor__importance_type': 'gain',\n",
    " 'regressor__learning_rate': 0.01,\n",
    " 'regressor__max_delta_step': 0,\n",
    " 'regressor__max_depth': 2,\n",
    " 'regressor__min_child_weight': 2,\n",
    " 'regressor__missing': None,\n",
    " 'regressor__n_estimators': 2818,\n",
    " 'regressor__n_jobs': -1,\n",
    " 'regressor__nthread': 4,\n",
    " 'regressor__objective': 'reg:linear',\n",
    " 'regressor__random_state': 42,\n",
    " 'regressor__reg_alpha': 1e-05,\n",
    " 'regressor__reg_lambda': 1,\n",
    " 'regressor__scale_pos_weight': 1,\n",
    " 'regressor__seed': 2,\n",
    " 'regressor__silent': True,\n",
    " 'regressor__subsample': 0.75}"
   ]
  },
  {
   "cell_type": "markdown",
   "metadata": {},
   "source": [
    "## Stacking linear models altogether"
   ]
  },
  {
   "cell_type": "markdown",
   "metadata": {},
   "source": [
    "Linear models are good, but we want better. In order to achieve this result I decided to use stacking. Stacking is another type of ensemble, where we combine first-level models, train them on our data and pass their predictions to the meta estimator as new input. Of course, there could be more than just two levels, but here we will build relatively simple model.\n",
    "\n",
    "After some experiments I found the best combination of models and the only thing, which has to be done is to fine-tune the meta-estimator"
   ]
  },
  {
   "cell_type": "code",
   "execution_count": 42,
   "metadata": {},
   "outputs": [],
   "source": [
    "  estim = [Lasso(alpha=0.0005075949367088608, copy_X=True, fit_intercept=True,\n",
    "           max_iter=1000, normalize=False, positive=False, precompute=False,\n",
    "           random_state=42, selection='cyclic', tol=0.0001, warm_start=False), \n",
    "         ElasticNet(alpha=0.0020256410256410257, copy_X=True, fit_intercept=True,\n",
    "          l1_ratio=0.2158974358974359, max_iter=1000, normalize=False,\n",
    "          positive=False, precompute=False, random_state=42,\n",
    "          selection='cyclic', tol=0.0001, warm_start=False), \n",
    "         SVR(C=0.00989873417721519, cache_size=200, coef0=0.0, degree=2, epsilon=0.01,\n",
    "          gamma='auto_deprecated', kernel='linear', max_iter=-1, shrinking=True,\n",
    "          tol=0.001, verbose=False)\n",
    "]\n",
    "meta = Ridge(alpha=1.0, copy_X=True, fit_intercept=True, max_iter=None,\n",
    "   normalize=False, random_state=42, solver='auto', tol=0.001)\n",
    "stacked_regression = StackingRegressor(regressors = estim,meta_regressor = meta)\n",
    "stacked_pipeline = Pipeline([\n",
    "    ('scaler',RobustScaler()),\n",
    "    ('regressor',stacked_regression)\n",
    "])\n"
   ]
  },
  {
   "cell_type": "code",
   "execution_count": 43,
   "metadata": {
    "scrolled": true
   },
   "outputs": [
    {
     "name": "stdout",
     "output_type": "stream",
     "text": [
      "Iter 1 out of 80 is finished\n",
      "Iter 2 out of 80 is finished\n",
      "Iter 3 out of 80 is finished\n",
      "Iter 4 out of 80 is finished\n",
      "Iter 5 out of 80 is finished\n",
      "Iter 6 out of 80 is finished\n",
      "Iter 7 out of 80 is finished\n",
      "Iter 8 out of 80 is finished\n",
      "Iter 9 out of 80 is finished\n",
      "Iter 10 out of 80 is finished\n",
      "Iter 11 out of 80 is finished\n",
      "Iter 12 out of 80 is finished\n",
      "Iter 13 out of 80 is finished\n",
      "Iter 14 out of 80 is finished\n",
      "Iter 15 out of 80 is finished\n",
      "Iter 16 out of 80 is finished\n",
      "Iter 17 out of 80 is finished\n",
      "Iter 18 out of 80 is finished\n",
      "Iter 19 out of 80 is finished\n",
      "Iter 20 out of 80 is finished\n",
      "Iter 21 out of 80 is finished\n",
      "Iter 22 out of 80 is finished\n",
      "Iter 23 out of 80 is finished\n",
      "Iter 24 out of 80 is finished\n",
      "Iter 25 out of 80 is finished\n",
      "Iter 26 out of 80 is finished\n",
      "Iter 27 out of 80 is finished\n",
      "Iter 28 out of 80 is finished\n",
      "Iter 29 out of 80 is finished\n",
      "Iter 30 out of 80 is finished\n",
      "Iter 31 out of 80 is finished\n",
      "Iter 32 out of 80 is finished\n",
      "Iter 33 out of 80 is finished\n",
      "Iter 34 out of 80 is finished\n",
      "Iter 35 out of 80 is finished\n",
      "Iter 36 out of 80 is finished\n",
      "Iter 37 out of 80 is finished\n",
      "Iter 38 out of 80 is finished\n",
      "Iter 39 out of 80 is finished\n",
      "Iter 40 out of 80 is finished\n",
      "Iter 41 out of 80 is finished\n",
      "Iter 42 out of 80 is finished\n",
      "Iter 43 out of 80 is finished\n",
      "Iter 44 out of 80 is finished\n",
      "Iter 45 out of 80 is finished\n",
      "Iter 46 out of 80 is finished\n",
      "Iter 47 out of 80 is finished\n",
      "Iter 48 out of 80 is finished\n",
      "Iter 49 out of 80 is finished\n",
      "Iter 50 out of 80 is finished\n",
      "Iter 51 out of 80 is finished\n",
      "Iter 52 out of 80 is finished\n",
      "Iter 53 out of 80 is finished\n",
      "Iter 54 out of 80 is finished\n",
      "Iter 55 out of 80 is finished\n",
      "Iter 56 out of 80 is finished\n",
      "Iter 57 out of 80 is finished\n",
      "Iter 58 out of 80 is finished\n",
      "Iter 59 out of 80 is finished\n",
      "Iter 60 out of 80 is finished\n",
      "Iter 61 out of 80 is finished\n",
      "Iter 62 out of 80 is finished\n",
      "Iter 63 out of 80 is finished\n",
      "Iter 64 out of 80 is finished\n",
      "Iter 65 out of 80 is finished\n",
      "Iter 66 out of 80 is finished\n",
      "Iter 67 out of 80 is finished\n",
      "Iter 68 out of 80 is finished\n",
      "Iter 69 out of 80 is finished\n",
      "Iter 70 out of 80 is finished\n",
      "Iter 71 out of 80 is finished\n",
      "Iter 72 out of 80 is finished\n",
      "Iter 73 out of 80 is finished\n",
      "Iter 74 out of 80 is finished\n",
      "Iter 75 out of 80 is finished\n",
      "Iter 76 out of 80 is finished\n",
      "Iter 77 out of 80 is finished\n",
      "Iter 78 out of 80 is finished\n",
      "Iter 79 out of 80 is finished\n",
      "Iter 80 out of 80 is finished\n",
      "5.2215189873417724\n",
      "Wall time: 12min 10s\n"
     ]
    },
    {
     "data": {
      "image/png": "[encoded data removed]",
      "text/plain": [
       "<Figure size 432x288 with 1 Axes>"
      ]
     },
     "metadata": {
      "needs_background": "light"
     },
     "output_type": "display_data"
    }
   ],
   "source": [
    "%%time\n",
    "alphas = np.linspace(2.5,7.5,80,endpoint=True)\n",
    "res_ = []\n",
    "for ind,el in enumerate(alphas):\n",
    "    stacked_pipeline.set_params(**{'regressor__meta_regressor__alpha': el})\n",
    "    res_.append(rmsle_cv(stacked_pipeline).mean())\n",
    "    print('Iter %i out of %i is finished' % (ind+1,len(alphas)))\n",
    "    \n",
    "plt.plot(alphas,res_)\n",
    "print(alphas[np.argmin(res_)])"
   ]
  },
  {
   "cell_type": "markdown",
   "metadata": {},
   "source": [
    "Final model"
   ]
  },
  {
   "cell_type": "code",
   "execution_count": 78,
   "metadata": {},
   "outputs": [],
   "source": [
    "estim = [Lasso(alpha=0.0005075949367088608, copy_X=True, fit_intercept=True,\n",
    "           max_iter=1000, normalize=False, positive=False, precompute=False,\n",
    "           random_state=42, selection='cyclic', tol=0.0001, warm_start=False), \n",
    "         ElasticNet(alpha=0.0020256410256410257, copy_X=True, fit_intercept=True,\n",
    "          l1_ratio=0.2158974358974359, max_iter=1000, normalize=False,\n",
    "          positive=False, precompute=False, random_state=42,\n",
    "          selection='cyclic', tol=0.0001, warm_start=False), \n",
    "         SVR(C=0.00989873417721519, cache_size=200, coef0=0.0, degree=2, epsilon=0.01,\n",
    "          gamma='auto_deprecated', kernel='linear', max_iter=-1, shrinking=True,\n",
    "          tol=0.001, verbose=False)\n",
    "]\n",
    "meta = Ridge(alpha=5.2215189873417724, copy_X=True, fit_intercept=True, max_iter=None,\n",
    "   normalize=False, random_state=42, solver='auto', tol=0.001)"
   ]
  },
  {
   "cell_type": "markdown",
   "metadata": {},
   "source": [
    "## Looking at the progress"
   ]
  },
  {
   "cell_type": "markdown",
   "metadata": {},
   "source": [
    "So, the long and boring part of tuning every model is over and now it's time to look on what we've done so far"
   ]
  },
  {
   "cell_type": "markdown",
   "metadata": {},
   "source": [
    "### Spoilers from tuning part"
   ]
  },
  {
   "cell_type": "code",
   "execution_count": 46,
   "metadata": {},
   "outputs": [],
   "source": [
    "xgb_pipe_pars = {'regressor__base_score': 0.5,\n",
    " 'regressor__booster': 'gbtree',\n",
    " 'regressor__colsample_bylevel': 1,\n",
    " 'regressor__colsample_bytree': 0.6,\n",
    " 'regressor__gamma': 0.0,\n",
    " 'regressor__importance_type': 'gain',\n",
    " 'regressor__learning_rate': 0.01,\n",
    " 'regressor__max_delta_step': 0,\n",
    " 'regressor__max_depth': 2,\n",
    " 'regressor__min_child_weight': 2,\n",
    " 'regressor__missing': None,\n",
    " 'regressor__n_estimators': 2818,\n",
    " 'regressor__n_jobs': -1,\n",
    " 'regressor__nthread': 4,\n",
    " 'regressor__objective': 'reg:linear',\n",
    " 'regressor__random_state': 42,\n",
    " 'regressor__reg_alpha': 1e-05,\n",
    " 'regressor__reg_lambda': 1,\n",
    " 'regressor__scale_pos_weight': 1,\n",
    " 'regressor__seed': 2,\n",
    " 'regressor__silent': True,\n",
    " 'regressor__subsample': 0.75}\n",
    "\n",
    "lgb_pars = {\n",
    "    'regressor__lambda': 9,\n",
    "    'regressor__max_depth': 30,\n",
    "    'regressor__num_leaves': 12,\n",
    "    'regressor__n_estimators': 175,\n",
    "    'regressor__subsample': 0.1,\n",
    "    'regressor__colsample_bytree': 0.21379310344827587,\n",
    "    'regressor__reg_alpha': 0.2,\n",
    "}\n",
    "estim = [Lasso(alpha=0.0005075949367088608, copy_X=True, fit_intercept=True,\n",
    "           max_iter=1000, normalize=False, positive=False, precompute=False,\n",
    "           random_state=42, selection='cyclic', tol=0.0001, warm_start=False), \n",
    "         ElasticNet(alpha=0.0020256410256410257, copy_X=True, fit_intercept=True,\n",
    "          l1_ratio=0.2158974358974359, max_iter=1000, normalize=False,\n",
    "          positive=False, precompute=False, random_state=42,\n",
    "          selection='cyclic', tol=0.0001, warm_start=False), \n",
    "         SVR(C=0.00989873417721519, cache_size=200, coef0=0.0, degree=2, epsilon=0.01,\n",
    "          gamma='auto_deprecated', kernel='linear', max_iter=-1, shrinking=True,\n",
    "          tol=0.001, verbose=False)\n",
    "]\n",
    "meta = Ridge(alpha=5.2215189873417724, copy_X=True, fit_intercept=True, max_iter=None,\n",
    "   normalize=False, random_state=42, solver='auto', tol=0.001)\n",
    "stacked_regression = StackingRegressor(regressors = estim,meta_regressor = meta)\n",
    "stacked_pipeline = Pipeline([\n",
    "    ('scaler',RobustScaler()),\n",
    "    ('regressor',stacked_regression)\n",
    "])\n"
   ]
  },
  {
   "cell_type": "markdown",
   "metadata": {},
   "source": [
    "### Recreating pipes"
   ]
  },
  {
   "cell_type": "code",
   "execution_count": 49,
   "metadata": {},
   "outputs": [],
   "source": [
    "pipes = [\n",
    "    Pipeline([('scaler',RobustScaler()), ('regressor',Lasso(random_state = 42))]),\n",
    "    Pipeline([('scaler',RobustScaler()), ('regressor',Ridge(random_state = 42))]),\n",
    "    Pipeline([('scaler',RobustScaler()), ('regressor',ElasticNet(random_state = 42))]),\n",
    "    Pipeline([('scaler',RobustScaler()), ('regressor',LinearRegression())]),\n",
    "    Pipeline([('regressor',SGDRegressor(random_state = 42))]),\n",
    "    Pipeline([('regressor',RandomForestRegressor(random_state = 42))]),\n",
    "    Pipeline([('regressor',AdaBoostRegressor(random_state = 42))]),\n",
    "    Pipeline([('regressor',GradientBoostingRegressor(random_state = 42))]),\n",
    "    Pipeline([('scaler',RobustScaler()), ('regressor',LinearSVR(random_state = 42))]),\n",
    "    Pipeline([('scaler',RobustScaler()), ('regressor',SVR())]),\n",
    "    Pipeline([('scaler',RobustScaler()), ('regressor',KNeighborsRegressor())]),\n",
    "    Pipeline([('regressor',XGBRegressor(random_state = 42))]),\n",
    "    Pipeline([('regressor',lgb.LGBMRegressor(objective='regression'))]),\n",
    "    Pipeline([('scaler',RobustScaler()),('regressor',KernelRidge())]),\n",
    "    Pipeline([('scaler',RobustScaler()),('regressor',stacked_regression)])    \n",
    "]\n",
    "cv_pars = [\n",
    "    #lasso\n",
    "    {'regressor__alpha': 0.0005075949367088608},\n",
    "    #ridge\n",
    "    {'regressor__alpha': 14.949367088607595},\n",
    "    #elastic\n",
    "    {'regressor__alpha': 0.0020256410256410257, 'regressor__l1_ratio': 0.2158974358974359},\n",
    "    #LR\n",
    "    {},\n",
    "    #SGD\\\n",
    "    {},\n",
    "    #RandomForest\n",
    "    {},\n",
    "    #AdaBoost\n",
    "    {'regressor__learning_rate': 0.01, 'regressor__loss': 'linear', 'regressor__n_estimators': 2100},\n",
    "    #GradientBoosting\n",
    "    {'regressor__learning_rate': 0.1, \n",
    "     'regressor__max_depth': 2.0, \n",
    "     'regressor__max_features': 0.25, \n",
    "     'regressor__min_samples_leaf': 0.1, \n",
    "     'regressor__min_samples_split': 0.4111111111111111,\n",
    "     'regressor__n_estimators': 1600},\n",
    "    #LinearSVR\n",
    "    {'regressor__C': 0.5112658227848101, 'regressor__epsilon': 0},\n",
    "    #SVR\n",
    "    {'regressor__C': 0.00989873417721519, 'regressor__epsilon': 0.01, 'regressor__kernel': 'linear'},\n",
    "    #KNR\n",
    "    {'regressor__leaf_size': 2, 'regressor__n_neighbors': 4, 'regressor__weights': 'distance'},\n",
    "    #XGB\n",
    "    xgb_pipe_pars,\n",
    "    #LGB\n",
    "    lgb_pars,\n",
    "    #KernelRidge\n",
    "    {'regressor__alpha': 0.01},\n",
    "    #StackedRegression\n",
    "    stacked_pipeline.get_params()\n",
    "]\n",
    "\n",
    "for ind,pipe in enumerate(pipes):\n",
    "    pipes[ind] = pipes[ind].set_params(**cv_pars[ind])"
   ]
  },
  {
   "cell_type": "markdown",
   "metadata": {},
   "source": [
    "The moment of truth!"
   ]
  },
  {
   "cell_type": "code",
   "execution_count": 84,
   "metadata": {
    "code_folding": []
   },
   "outputs": [
    {
     "name": "stdout",
     "output_type": "stream",
     "text": [
      "Iter 1 out of 15 completed\n",
      "Iter 2 out of 15 completed\n",
      "Iter 3 out of 15 completed\n",
      "Iter 4 out of 15 completed\n",
      "Iter 5 out of 15 completed\n",
      "Iter 6 out of 15 completed\n",
      "Iter 7 out of 15 completed\n",
      "Iter 8 out of 15 completed\n",
      "Iter 9 out of 15 completed\n",
      "Iter 10 out of 15 completed\n",
      "Iter 11 out of 15 completed\n",
      "Iter 12 out of 15 completed\n",
      "Iter 13 out of 15 completed\n",
      "Iter 14 out of 15 completed\n",
      "Iter 15 out of 15 completed\n"
     ]
    }
   ],
   "source": [
    "arr = np.zeros(shape=(len(pipes),3),dtype='object')\n",
    "for ind,pipe in enumerate(pipes):\n",
    "    m = re.match(\"(.+)([.])([A-Za-z0-9-]+)(['>])\",str(type(pipe.get_params()['regressor'])))\n",
    "    score = rmsle_cv(pipe)\n",
    "    arr[ind] = [m.group(3),score.mean(),score.std()]   \n",
    "    print(\"Iter %i out of %i completed\" % (ind + 1,len(pipes)))  \n",
    "    "
   ]
  },
  {
   "cell_type": "markdown",
   "metadata": {},
   "source": [
    "### Table"
   ]
  },
  {
   "cell_type": "markdown",
   "metadata": {},
   "source": [
    "As we could see, the progress is actually quite significant. But could we do better?"
   ]
  },
  {
   "cell_type": "code",
   "execution_count": 85,
   "metadata": {
    "scrolled": false
   },
   "outputs": [
    {
     "data": {
      "text/html": [
       "<div>\n",
       "<style scoped>\n",
       "    .dataframe tbody tr th:only-of-type {\n",
       "        vertical-align: middle;\n",
       "    }\n",
       "\n",
       "    .dataframe tbody tr th {\n",
       "        vertical-align: top;\n",
       "    }\n",
       "\n",
       "    .dataframe thead th {\n",
       "        text-align: right;\n",
       "    }\n",
       "</style>\n",
       "<table border=\"1\" class=\"dataframe\">\n",
       "  <thead>\n",
       "    <tr style=\"text-align: right;\">\n",
       "      <th></th>\n",
       "      <th>Mean</th>\n",
       "      <th>Std</th>\n",
       "      <th>Is tuned</th>\n",
       "      <th>Id</th>\n",
       "    </tr>\n",
       "  </thead>\n",
       "  <tbody>\n",
       "    <tr>\n",
       "      <th>StackingRegressor</th>\n",
       "      <td>0.111798</td>\n",
       "      <td>0.00895167</td>\n",
       "      <td>Tuned</td>\n",
       "      <td>14</td>\n",
       "    </tr>\n",
       "    <tr>\n",
       "      <th>Lasso</th>\n",
       "      <td>0.11233</td>\n",
       "      <td>0.00798616</td>\n",
       "      <td>Tuned</td>\n",
       "      <td>0</td>\n",
       "    </tr>\n",
       "    <tr>\n",
       "      <th>ElasticNet</th>\n",
       "      <td>0.112592</td>\n",
       "      <td>0.00849543</td>\n",
       "      <td>Tuned</td>\n",
       "      <td>2</td>\n",
       "    </tr>\n",
       "    <tr>\n",
       "      <th>Ridge</th>\n",
       "      <td>0.113715</td>\n",
       "      <td>0.00949058</td>\n",
       "      <td>Tuned</td>\n",
       "      <td>1</td>\n",
       "    </tr>\n",
       "    <tr>\n",
       "      <th>SVR</th>\n",
       "      <td>0.115055</td>\n",
       "      <td>0.010229</td>\n",
       "      <td>Tuned</td>\n",
       "      <td>9</td>\n",
       "    </tr>\n",
       "    <tr>\n",
       "      <th>XGBRegressor</th>\n",
       "      <td>0.11632</td>\n",
       "      <td>0.00687493</td>\n",
       "      <td>Tuned</td>\n",
       "      <td>11</td>\n",
       "    </tr>\n",
       "    <tr>\n",
       "      <th>LGBMRegressor</th>\n",
       "      <td>0.118399</td>\n",
       "      <td>0.00975277</td>\n",
       "      <td>Tuned</td>\n",
       "      <td>12</td>\n",
       "    </tr>\n",
       "    <tr>\n",
       "      <th>LinearRegression</th>\n",
       "      <td>0.129784</td>\n",
       "      <td>0.0115422</td>\n",
       "      <td>Not tuned</td>\n",
       "      <td>3</td>\n",
       "    </tr>\n",
       "    <tr>\n",
       "      <th>LinearSVR</th>\n",
       "      <td>0.13183</td>\n",
       "      <td>0.00794201</td>\n",
       "      <td>Tuned</td>\n",
       "      <td>8</td>\n",
       "    </tr>\n",
       "    <tr>\n",
       "      <th>GradientBoostingRegressor</th>\n",
       "      <td>0.13269</td>\n",
       "      <td>0.00691605</td>\n",
       "      <td>Tuned</td>\n",
       "      <td>7</td>\n",
       "    </tr>\n",
       "    <tr>\n",
       "      <th>RandomForestRegressor</th>\n",
       "      <td>0.144558</td>\n",
       "      <td>0.00724976</td>\n",
       "      <td>Not tuned</td>\n",
       "      <td>5</td>\n",
       "    </tr>\n",
       "    <tr>\n",
       "      <th>AdaBoostRegressor</th>\n",
       "      <td>0.164368</td>\n",
       "      <td>0.00454054</td>\n",
       "      <td>Tuned</td>\n",
       "      <td>6</td>\n",
       "    </tr>\n",
       "    <tr>\n",
       "      <th>KernelRidge</th>\n",
       "      <td>0.178609</td>\n",
       "      <td>0.0398659</td>\n",
       "      <td>Tuned</td>\n",
       "      <td>13</td>\n",
       "    </tr>\n",
       "    <tr>\n",
       "      <th>KNeighborsRegressor</th>\n",
       "      <td>0.191957</td>\n",
       "      <td>0.0051533</td>\n",
       "      <td>Tuned</td>\n",
       "      <td>10</td>\n",
       "    </tr>\n",
       "    <tr>\n",
       "      <th>SGDRegressor</th>\n",
       "      <td>1.00119e+12</td>\n",
       "      <td>3.20443e+11</td>\n",
       "      <td>Not tuned</td>\n",
       "      <td>4</td>\n",
       "    </tr>\n",
       "  </tbody>\n",
       "</table>\n",
       "</div>"
      ],
      "text/plain": [
       "                                  Mean          Std   Is tuned  Id\n",
       "StackingRegressor             0.111798   0.00895167      Tuned  14\n",
       "Lasso                          0.11233   0.00798616      Tuned   0\n",
       "ElasticNet                    0.112592   0.00849543      Tuned   2\n",
       "Ridge                         0.113715   0.00949058      Tuned   1\n",
       "SVR                           0.115055     0.010229      Tuned   9\n",
       "XGBRegressor                   0.11632   0.00687493      Tuned  11\n",
       "LGBMRegressor                 0.118399   0.00975277      Tuned  12\n",
       "LinearRegression              0.129784    0.0115422  Not tuned   3\n",
       "LinearSVR                      0.13183   0.00794201      Tuned   8\n",
       "GradientBoostingRegressor      0.13269   0.00691605      Tuned   7\n",
       "RandomForestRegressor         0.144558   0.00724976  Not tuned   5\n",
       "AdaBoostRegressor             0.164368   0.00454054      Tuned   6\n",
       "KernelRidge                   0.178609    0.0398659      Tuned  13\n",
       "KNeighborsRegressor           0.191957    0.0051533      Tuned  10\n",
       "SGDRegressor               1.00119e+12  3.20443e+11  Not tuned   4"
      ]
     },
     "execution_count": 85,
     "metadata": {},
     "output_type": "execute_result"
    }
   ],
   "source": [
    "compare = lambda x: \"Tuned\" if len(x) > 0 else \"Not tuned\"\n",
    "is_tuned = np.array([compare(x) for x in cv_pars])\n",
    "res_df = pd.DataFrame(index=arr[:,0],columns=['Mean','Std','Is tuned','Id'],\n",
    "                      data=np.hstack((arr[:,1:],is_tuned.reshape(-1,1),np.arange(len(arr)).reshape(-1,1))))\n",
    "res_df.sort_values('Mean')"
   ]
  },
  {
   "cell_type": "markdown",
   "metadata": {},
   "source": [
    "The answer is 'yes'! How about little blending on top of our beautiful models, filled with top-class math? Blending is the simple technique of mixing different models predictions. When I tried it, I didn't expect much from it, but suddenly it boosted my performance! My guess is that it worked because of low std of XGB and LGBM, so mixing their predictions with StackedRegression I decreased errors connected to variance. Still, if somebody could explain me why it works like it works - it would be nice."
   ]
  },
  {
   "cell_type": "code",
   "execution_count": 56,
   "metadata": {},
   "outputs": [],
   "source": [
    "pipes[14].fit(train,y_train)\n",
    "pipes[11].fit(train,y_train)\n",
    "pipes[12].fit(train,y_train)\n",
    "preds = np.expm1(0.7 * pipes[14].predict(test) + 0.15 * pipes[11].predict(test) + 0.15 * pipes[12].predict(test))\n",
    "make_submission(preds)"
   ]
  },
  {
   "cell_type": "markdown",
   "metadata": {},
   "source": [
    "## The end!"
   ]
  },
  {
   "cell_type": "markdown",
   "metadata": {},
   "source": [
    "Whoooah. That was quite a trip, wasn't it? Thank everybody for reading this kernel. I hope it will help somebody in their work and will be glad to hear some feedback! See ya!"
   ]
  }
 ],
 "metadata": {
  "kernelspec": {
   "display_name": "Python 3",
   "language": "python",
   "name": "python3"
  },
  "language_info": {
   "codemirror_mode": {
    "name": "ipython",
    "version": 3
   },
   "file_extension": ".py",
   "mimetype": "text/x-python",
   "name": "python",
   "nbconvert_exporter": "python",
   "pygments_lexer": "ipython3",
   "version": "3.7.3"
  },
  "notify_time": "5"
 },
 "nbformat": 4,
 "nbformat_minor": 2
}
